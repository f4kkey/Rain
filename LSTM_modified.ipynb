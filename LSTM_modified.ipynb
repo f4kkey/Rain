{
 "cells": [
  {
   "cell_type": "code",
   "execution_count": 17,
   "metadata": {},
   "outputs": [],
   "source": [
    "import numpy as np\n",
    "import pandas as pd\n",
    "import matplotlib.pyplot as plt\n",
    "from datetime import datetime\n",
    "from sklearn.metrics import mean_squared_error, r2_score\n",
    "import tensorflow as tf\n",
    "from tensorflow.keras.models import Sequential\n",
    "from tensorflow.keras.layers import LSTM, Dense, TimeDistributed\n",
    "from tensorflow.keras.callbacks import EarlyStopping\n",
    "\n",
    "np.random.seed(42)\n",
    "tf.random.set_seed(42)\n",
    "input_steps = 6   \n",
    "output_steps = 6   \n"
   ]
  },
  {
   "cell_type": "code",
   "execution_count": 18,
   "metadata": {},
   "outputs": [
    {
     "name": "stdout",
     "output_type": "stream",
     "text": [
      "DataFrame head:\n",
      "   row  col            datetime  AWS    CAPE          CIN        EWSS  \\\n",
      "0    0  104 2020-10-01 00:00:00  0.0  197.25    61.953484 -113.054688   \n",
      "1    0  104 2020-10-01 01:00:00  0.0  138.50  9999.000000 -128.285156   \n",
      "2    0  104 2020-10-01 02:00:00  0.0  102.00  9999.000000 -120.671875   \n",
      "3    0  104 2020-10-01 03:00:00  0.0  160.75  9999.000000 -169.191406   \n",
      "4    0  104 2020-10-01 04:00:00  0.0  204.50   213.468903 -304.347656   \n",
      "\n",
      "         IE      ISOR         KX  ...    SLHF      SLOR    SSHF      TCLW  \\\n",
      "0 -0.000017  0.676296  36.621414  ...  -59037  0.023543  -27549  0.373413   \n",
      "1 -0.000038  0.676296  36.078514  ... -203202  0.023543  -64968  0.274780   \n",
      "2 -0.000055  0.676296  35.410492  ... -376145  0.023543  -81566  0.194763   \n",
      "3 -0.000064  0.676296  34.843140  ... -609080  0.023543 -101141  0.187439   \n",
      "4 -0.000112  0.676296  34.893394  ... -654851  0.023543  -97831  0.104156   \n",
      "\n",
      "         TCW       TCWV      U250      U850      V250      V850  \n",
      "0  59.393524  59.004852 -5.800369 -0.907883 -0.157303  3.689789  \n",
      "1  59.516571  59.215790 -5.511688 -0.485977 -0.572311  3.517319  \n",
      "2  59.715759  59.483337 -4.963364 -0.448380 -1.284912  3.182495  \n",
      "3  60.249374  60.005234 -4.379272 -0.892761 -2.056778  2.465332  \n",
      "4  60.974991  60.775604 -3.959961 -1.550842 -2.280151  1.559830  \n",
      "\n",
      "[5 rows x 24 columns]\n",
      "Features và target sau khi chuẩn hóa theo min-max:\n",
      "        AWS      CAPE       CIN      EWSS        IE      ISOR        KX  \\\n",
      "0  0.000000  0.070118  0.012608  0.651674  0.898486  0.496557  0.830033   \n",
      "1  0.000000  0.070118  0.012608  0.651674  0.898486  0.496557  0.830033   \n",
      "2  0.000000  0.125534  0.000058  0.659298  0.931329  0.906242  0.842586   \n",
      "3  0.000822  0.044696  0.014217  0.640730  0.931375  0.000000  0.836956   \n",
      "4  0.000000  0.074160  0.012931  0.639373  0.876560  0.470030  0.849484   \n",
      "\n",
      "        PEV      R250      R500       AWS  \n",
      "0  0.962043  0.132649  0.560564  0.000000  \n",
      "1  0.962043  0.132649  0.560564  0.000000  \n",
      "2  0.970851  0.124132  0.059958  0.000000  \n",
      "3  0.972022  0.110669  0.336232  0.000822  \n",
      "4  0.951890  0.176793  0.623325  0.000000  \n"
     ]
    },
    {
     "name": "stderr",
     "output_type": "stream",
     "text": [
      "C:\\Users\\giakh\\AppData\\Local\\Temp\\ipykernel_20060\\3253527514.py:18: FutureWarning: DataFrame.fillna with 'method' is deprecated and will raise in a future version. Use obj.ffill() or obj.bfill() instead.\n",
      "  df[features] = df[features].fillna(method='ffill')\n"
     ]
    }
   ],
   "source": [
    "data_file = \"data_readed.xlsx\"\n",
    "df = pd.read_excel(data_file)\n",
    "print(\"DataFrame head:\")\n",
    "print(df.head())\n",
    "\n",
    "# Xác định 10 features làm đầu vào (giả sử nằm ở cột thứ 4 đến 13)\n",
    "features = df.columns[3:13].tolist()  \n",
    "target_label = 'AWS'\n",
    "\n",
    "# Chuyển đổi cột datetime và thêm các cột tuần, tháng, năm\n",
    "df['datetime'] = pd.to_datetime(df['datetime'])\n",
    "df['week'] = df['datetime'].dt.isocalendar().week\n",
    "df['month'] = df['datetime'].dt.month\n",
    "df['year'] = df['datetime'].dt.year\n",
    "df = df.sort_values(by='datetime').reset_index(drop=True)\n",
    "\n",
    "# Điền giá trị thiếu cho các features\n",
    "df[features] = df[features].fillna(method='ffill')\n",
    "\n",
    "# Chuẩn hóa min-max cho các features đầu vào (không áp dụng cho target)\n",
    "for col in features:\n",
    "    min_val = df[col].min()\n",
    "    max_val = df[col].max()\n",
    "    df[col] = (df[col] - min_val) / (max_val - min_val)\n",
    "\n",
    "print(\"Features và target sau khi chuẩn hóa theo min-max:\")\n",
    "print(df[features + [target_label]].head())\n"
   ]
  },
  {
   "cell_type": "code",
   "execution_count": 19,
   "metadata": {},
   "outputs": [
    {
     "name": "stdout",
     "output_type": "stream",
     "text": [
      "Dataset shape: (657670, 6, 10) (657670, 6)\n"
     ]
    }
   ],
   "source": [
    "def create_dataset(df, features, target_label, past=6, future=6):\n",
    "    X, y = [], []\n",
    "    feature_values = df[features].values\n",
    "    target_values = df[target_label].values\n",
    "    for i in range(len(df) - past - future + 1):\n",
    "        X.append(feature_values[i:(i+past)])\n",
    "        y.append(target_values[i+past:i+past+future])\n",
    "    return np.array(X), np.array(y)\n",
    "\n",
    "X, y = create_dataset(df, features, target_label, input_steps, output_steps)\n",
    "print(\"Dataset shape:\", X.shape, y.shape)\n",
    "\n",
    "# Chia dữ liệu thành tập train và test (80% train, 20% test)\n",
    "split = int(0.8 * len(X))\n",
    "X_train, X_test = X[:split], X[split:]\n",
    "y_train, y_test = y[:split], y[split:]\n"
   ]
  },
  {
   "cell_type": "code",
   "execution_count": 20,
   "metadata": {},
   "outputs": [
    {
     "name": "stderr",
     "output_type": "stream",
     "text": [
      "c:\\Users\\giakh\\miniconda3\\envs\\ai_train\\Lib\\site-packages\\keras\\src\\layers\\rnn\\rnn.py:200: UserWarning: Do not pass an `input_shape`/`input_dim` argument to a layer. When using Sequential models, prefer using an `Input(shape)` object as the first layer in the model instead.\n",
      "  super().__init__(**kwargs)\n"
     ]
    },
    {
     "data": {
      "text/html": [
       "<pre style=\"white-space:pre;overflow-x:auto;line-height:normal;font-family:Menlo,'DejaVu Sans Mono',consolas,'Courier New',monospace\"><span style=\"font-weight: bold\">Model: \"sequential_10\"</span>\n",
       "</pre>\n"
      ],
      "text/plain": [
       "\u001b[1mModel: \"sequential_10\"\u001b[0m\n"
      ]
     },
     "metadata": {},
     "output_type": "display_data"
    },
    {
     "data": {
      "text/html": [
       "<pre style=\"white-space:pre;overflow-x:auto;line-height:normal;font-family:Menlo,'DejaVu Sans Mono',consolas,'Courier New',monospace\">┏━━━━━━━━━━━━━━━━━━━━━━━━━━━━━━━━━┳━━━━━━━━━━━━━━━━━━━━━━━━┳━━━━━━━━━━━━━━━┓\n",
       "┃<span style=\"font-weight: bold\"> Layer (type)                    </span>┃<span style=\"font-weight: bold\"> Output Shape           </span>┃<span style=\"font-weight: bold\">       Param # </span>┃\n",
       "┡━━━━━━━━━━━━━━━━━━━━━━━━━━━━━━━━━╇━━━━━━━━━━━━━━━━━━━━━━━━╇━━━━━━━━━━━━━━━┩\n",
       "│ lstm_10 (<span style=\"color: #0087ff; text-decoration-color: #0087ff\">LSTM</span>)                  │ (<span style=\"color: #00d7ff; text-decoration-color: #00d7ff\">None</span>, <span style=\"color: #00af00; text-decoration-color: #00af00\">64</span>)             │        <span style=\"color: #00af00; text-decoration-color: #00af00\">19,200</span> │\n",
       "├─────────────────────────────────┼────────────────────────┼───────────────┤\n",
       "│ dense_10 (<span style=\"color: #0087ff; text-decoration-color: #0087ff\">Dense</span>)                │ (<span style=\"color: #00d7ff; text-decoration-color: #00d7ff\">None</span>, <span style=\"color: #00af00; text-decoration-color: #00af00\">6</span>)              │           <span style=\"color: #00af00; text-decoration-color: #00af00\">390</span> │\n",
       "└─────────────────────────────────┴────────────────────────┴───────────────┘\n",
       "</pre>\n"
      ],
      "text/plain": [
       "┏━━━━━━━━━━━━━━━━━━━━━━━━━━━━━━━━━┳━━━━━━━━━━━━━━━━━━━━━━━━┳━━━━━━━━━━━━━━━┓\n",
       "┃\u001b[1m \u001b[0m\u001b[1mLayer (type)                   \u001b[0m\u001b[1m \u001b[0m┃\u001b[1m \u001b[0m\u001b[1mOutput Shape          \u001b[0m\u001b[1m \u001b[0m┃\u001b[1m \u001b[0m\u001b[1m      Param #\u001b[0m\u001b[1m \u001b[0m┃\n",
       "┡━━━━━━━━━━━━━━━━━━━━━━━━━━━━━━━━━╇━━━━━━━━━━━━━━━━━━━━━━━━╇━━━━━━━━━━━━━━━┩\n",
       "│ lstm_10 (\u001b[38;5;33mLSTM\u001b[0m)                  │ (\u001b[38;5;45mNone\u001b[0m, \u001b[38;5;34m64\u001b[0m)             │        \u001b[38;5;34m19,200\u001b[0m │\n",
       "├─────────────────────────────────┼────────────────────────┼───────────────┤\n",
       "│ dense_10 (\u001b[38;5;33mDense\u001b[0m)                │ (\u001b[38;5;45mNone\u001b[0m, \u001b[38;5;34m6\u001b[0m)              │           \u001b[38;5;34m390\u001b[0m │\n",
       "└─────────────────────────────────┴────────────────────────┴───────────────┘\n"
      ]
     },
     "metadata": {},
     "output_type": "display_data"
    },
    {
     "data": {
      "text/html": [
       "<pre style=\"white-space:pre;overflow-x:auto;line-height:normal;font-family:Menlo,'DejaVu Sans Mono',consolas,'Courier New',monospace\"><span style=\"font-weight: bold\"> Total params: </span><span style=\"color: #00af00; text-decoration-color: #00af00\">19,590</span> (76.52 KB)\n",
       "</pre>\n"
      ],
      "text/plain": [
       "\u001b[1m Total params: \u001b[0m\u001b[38;5;34m19,590\u001b[0m (76.52 KB)\n"
      ]
     },
     "metadata": {},
     "output_type": "display_data"
    },
    {
     "data": {
      "text/html": [
       "<pre style=\"white-space:pre;overflow-x:auto;line-height:normal;font-family:Menlo,'DejaVu Sans Mono',consolas,'Courier New',monospace\"><span style=\"font-weight: bold\"> Trainable params: </span><span style=\"color: #00af00; text-decoration-color: #00af00\">19,590</span> (76.52 KB)\n",
       "</pre>\n"
      ],
      "text/plain": [
       "\u001b[1m Trainable params: \u001b[0m\u001b[38;5;34m19,590\u001b[0m (76.52 KB)\n"
      ]
     },
     "metadata": {},
     "output_type": "display_data"
    },
    {
     "data": {
      "text/html": [
       "<pre style=\"white-space:pre;overflow-x:auto;line-height:normal;font-family:Menlo,'DejaVu Sans Mono',consolas,'Courier New',monospace\"><span style=\"font-weight: bold\"> Non-trainable params: </span><span style=\"color: #00af00; text-decoration-color: #00af00\">0</span> (0.00 B)\n",
       "</pre>\n"
      ],
      "text/plain": [
       "\u001b[1m Non-trainable params: \u001b[0m\u001b[38;5;34m0\u001b[0m (0.00 B)\n"
      ]
     },
     "metadata": {},
     "output_type": "display_data"
    }
   ],
   "source": [
    "def create_model(input_shape, output_steps):\n",
    "    model = Sequential()\n",
    "    model.add(LSTM(64, activation='relu', input_shape=input_shape))\n",
    "    model.add(Dense(output_steps))\n",
    "    model.compile(optimizer='adam', loss='mse')\n",
    "    return model\n",
    "\n",
    "# In summary của một model mẫu để kiểm tra\n",
    "sample_model = create_model(input_shape=(X_train.shape[1], X_train.shape[2]), output_steps=output_steps)\n",
    "sample_model.summary()\n"
   ]
  },
  {
   "cell_type": "code",
   "execution_count": 21,
   "metadata": {},
   "outputs": [
    {
     "name": "stdout",
     "output_type": "stream",
     "text": [
      "\u001b[1m2741/2741\u001b[0m \u001b[32m━━━━━━━━━━━━━━━━━━━━\u001b[0m\u001b[37m\u001b[0m \u001b[1m5s\u001b[0m 2ms/step\n",
      "Fold 1: MSE = 0.0002, R2 = -0.0177\n"
     ]
    },
    {
     "name": "stderr",
     "output_type": "stream",
     "text": [
      "c:\\Users\\giakh\\miniconda3\\envs\\ai_train\\Lib\\site-packages\\keras\\src\\layers\\rnn\\rnn.py:200: UserWarning: Do not pass an `input_shape`/`input_dim` argument to a layer. When using Sequential models, prefer using an `Input(shape)` object as the first layer in the model instead.\n",
      "  super().__init__(**kwargs)\n"
     ]
    },
    {
     "name": "stdout",
     "output_type": "stream",
     "text": [
      "\u001b[1m2741/2741\u001b[0m \u001b[32m━━━━━━━━━━━━━━━━━━━━\u001b[0m\u001b[37m\u001b[0m \u001b[1m5s\u001b[0m 2ms/step\n",
      "Fold 2: MSE = 0.0003, R2 = -0.0253\n"
     ]
    },
    {
     "name": "stderr",
     "output_type": "stream",
     "text": [
      "c:\\Users\\giakh\\miniconda3\\envs\\ai_train\\Lib\\site-packages\\keras\\src\\layers\\rnn\\rnn.py:200: UserWarning: Do not pass an `input_shape`/`input_dim` argument to a layer. When using Sequential models, prefer using an `Input(shape)` object as the first layer in the model instead.\n",
      "  super().__init__(**kwargs)\n"
     ]
    },
    {
     "name": "stdout",
     "output_type": "stream",
     "text": [
      "\u001b[1m2741/2741\u001b[0m \u001b[32m━━━━━━━━━━━━━━━━━━━━\u001b[0m\u001b[37m\u001b[0m \u001b[1m5s\u001b[0m 2ms/step\n",
      "Fold 3: MSE = 0.0001, R2 = -0.0097\n"
     ]
    },
    {
     "name": "stderr",
     "output_type": "stream",
     "text": [
      "c:\\Users\\giakh\\miniconda3\\envs\\ai_train\\Lib\\site-packages\\keras\\src\\layers\\rnn\\rnn.py:200: UserWarning: Do not pass an `input_shape`/`input_dim` argument to a layer. When using Sequential models, prefer using an `Input(shape)` object as the first layer in the model instead.\n",
      "  super().__init__(**kwargs)\n"
     ]
    },
    {
     "name": "stdout",
     "output_type": "stream",
     "text": [
      "\u001b[1m2741/2741\u001b[0m \u001b[32m━━━━━━━━━━━━━━━━━━━━\u001b[0m\u001b[37m\u001b[0m \u001b[1m6s\u001b[0m 2ms/step\n",
      "Fold 4: MSE = 0.0001, R2 = -0.0022\n"
     ]
    },
    {
     "name": "stderr",
     "output_type": "stream",
     "text": [
      "c:\\Users\\giakh\\miniconda3\\envs\\ai_train\\Lib\\site-packages\\keras\\src\\layers\\rnn\\rnn.py:200: UserWarning: Do not pass an `input_shape`/`input_dim` argument to a layer. When using Sequential models, prefer using an `Input(shape)` object as the first layer in the model instead.\n",
      "  super().__init__(**kwargs)\n"
     ]
    },
    {
     "name": "stdout",
     "output_type": "stream",
     "text": [
      "\u001b[1m2741/2741\u001b[0m \u001b[32m━━━━━━━━━━━━━━━━━━━━\u001b[0m\u001b[37m\u001b[0m \u001b[1m5s\u001b[0m 2ms/step\n",
      "Fold 5: MSE = 0.0003, R2 = -0.0302\n",
      "CV Average MSE: 0.00019842335238120793\n",
      "CV Average R2: -0.01702054456990858\n"
     ]
    }
   ],
   "source": [
    "from sklearn.model_selection import TimeSeriesSplit\n",
    "from sklearn.metrics import mean_squared_error, r2_score\n",
    "\n",
    "tscv = TimeSeriesSplit(n_splits=5)\n",
    "cv_mse = []\n",
    "cv_r2 = []\n",
    "fold = 1\n",
    "\n",
    "for train_index, val_index in tscv.split(X_train):\n",
    "    X_tr, X_val = X_train[train_index], X_train[val_index]\n",
    "    y_tr, y_val = y_train[train_index], y_train[val_index]\n",
    "    \n",
    "    # Tạo model mới cho mỗi fold\n",
    "    model_cv = create_model(input_shape=(X_tr.shape[1], X_tr.shape[2]), output_steps=output_steps)\n",
    "    history_cv = model_cv.fit(X_tr, y_tr, epochs=50, batch_size=32,\n",
    "                              validation_data=(X_val, y_val), verbose=0)\n",
    "    \n",
    "    # Dự đoán và tính các chỉ số trên tập validation của fold này\n",
    "    y_val_pred = model_cv.predict(X_val)\n",
    "    mse_fold = mean_squared_error(y_val.flatten(), y_val_pred.flatten())\n",
    "    r2_fold = r2_score(y_val.flatten(), y_val_pred.flatten())\n",
    "    cv_mse.append(mse_fold)\n",
    "    cv_r2.append(r2_fold)\n",
    "    \n",
    "    print(f\"Fold {fold}: MSE = {mse_fold:.4f}, R2 = {r2_fold:.4f}\")\n",
    "    fold += 1\n",
    "\n",
    "print(\"CV Average MSE:\", np.mean(cv_mse))\n",
    "print(\"CV Average R2:\", np.mean(cv_r2))\n"
   ]
  },
  {
   "cell_type": "code",
   "execution_count": 22,
   "metadata": {},
   "outputs": [
    {
     "name": "stdout",
     "output_type": "stream",
     "text": [
      "Epoch 1/100\n"
     ]
    },
    {
     "name": "stderr",
     "output_type": "stream",
     "text": [
      "c:\\Users\\giakh\\miniconda3\\envs\\ai_train\\Lib\\site-packages\\keras\\src\\layers\\rnn\\rnn.py:200: UserWarning: Do not pass an `input_shape`/`input_dim` argument to a layer. When using Sequential models, prefer using an `Input(shape)` object as the first layer in the model instead.\n",
      "  super().__init__(**kwargs)\n"
     ]
    },
    {
     "name": "stdout",
     "output_type": "stream",
     "text": [
      "\u001b[1m6577/6577\u001b[0m \u001b[32m━━━━━━━━━━━━━━━━━━━━\u001b[0m\u001b[37m\u001b[0m \u001b[1m31s\u001b[0m 4ms/step - loss: 2.3753e-04 - val_loss: 2.1162e-04\n",
      "Epoch 2/100\n",
      "\u001b[1m6577/6577\u001b[0m \u001b[32m━━━━━━━━━━━━━━━━━━━━\u001b[0m\u001b[37m\u001b[0m \u001b[1m29s\u001b[0m 4ms/step - loss: 2.0274e-04 - val_loss: 2.0957e-04\n",
      "Epoch 3/100\n",
      "\u001b[1m6577/6577\u001b[0m \u001b[32m━━━━━━━━━━━━━━━━━━━━\u001b[0m\u001b[37m\u001b[0m \u001b[1m29s\u001b[0m 4ms/step - loss: 2.0143e-04 - val_loss: 2.1075e-04\n",
      "Epoch 4/100\n",
      "\u001b[1m6577/6577\u001b[0m \u001b[32m━━━━━━━━━━━━━━━━━━━━\u001b[0m\u001b[37m\u001b[0m \u001b[1m29s\u001b[0m 4ms/step - loss: 2.0100e-04 - val_loss: 2.1172e-04\n",
      "Epoch 5/100\n",
      "\u001b[1m6577/6577\u001b[0m \u001b[32m━━━━━━━━━━━━━━━━━━━━\u001b[0m\u001b[37m\u001b[0m \u001b[1m29s\u001b[0m 4ms/step - loss: 2.0080e-04 - val_loss: 2.1193e-04\n",
      "Epoch 6/100\n",
      "\u001b[1m6577/6577\u001b[0m \u001b[32m━━━━━━━━━━━━━━━━━━━━\u001b[0m\u001b[37m\u001b[0m \u001b[1m29s\u001b[0m 4ms/step - loss: 2.0065e-04 - val_loss: 2.1178e-04\n",
      "Epoch 7/100\n",
      "\u001b[1m6577/6577\u001b[0m \u001b[32m━━━━━━━━━━━━━━━━━━━━\u001b[0m\u001b[37m\u001b[0m \u001b[1m29s\u001b[0m 4ms/step - loss: 2.0053e-04 - val_loss: 2.1190e-04\n",
      "Epoch 8/100\n",
      "\u001b[1m6577/6577\u001b[0m \u001b[32m━━━━━━━━━━━━━━━━━━━━\u001b[0m\u001b[37m\u001b[0m \u001b[1m29s\u001b[0m 4ms/step - loss: 2.0044e-04 - val_loss: 2.1218e-04\n",
      "Epoch 9/100\n",
      "\u001b[1m6577/6577\u001b[0m \u001b[32m━━━━━━━━━━━━━━━━━━━━\u001b[0m\u001b[37m\u001b[0m \u001b[1m29s\u001b[0m 4ms/step - loss: 2.0036e-04 - val_loss: 2.1247e-04\n",
      "Epoch 10/100\n",
      "\u001b[1m6577/6577\u001b[0m \u001b[32m━━━━━━━━━━━━━━━━━━━━\u001b[0m\u001b[37m\u001b[0m \u001b[1m29s\u001b[0m 4ms/step - loss: 2.0029e-04 - val_loss: 2.1230e-04\n",
      "Epoch 11/100\n",
      "\u001b[1m6577/6577\u001b[0m \u001b[32m━━━━━━━━━━━━━━━━━━━━\u001b[0m\u001b[37m\u001b[0m \u001b[1m29s\u001b[0m 4ms/step - loss: 2.0022e-04 - val_loss: 2.1263e-04\n",
      "Epoch 12/100\n",
      "\u001b[1m6577/6577\u001b[0m \u001b[32m━━━━━━━━━━━━━━━━━━━━\u001b[0m\u001b[37m\u001b[0m \u001b[1m30s\u001b[0m 4ms/step - loss: 2.0016e-04 - val_loss: 2.1276e-04\n",
      "Epoch 13/100\n",
      "\u001b[1m6577/6577\u001b[0m \u001b[32m━━━━━━━━━━━━━━━━━━━━\u001b[0m\u001b[37m\u001b[0m \u001b[1m29s\u001b[0m 4ms/step - loss: 2.0010e-04 - val_loss: 2.1290e-04\n",
      "Epoch 14/100\n",
      "\u001b[1m6577/6577\u001b[0m \u001b[32m━━━━━━━━━━━━━━━━━━━━\u001b[0m\u001b[37m\u001b[0m \u001b[1m29s\u001b[0m 4ms/step - loss: 2.0006e-04 - val_loss: 2.1295e-04\n",
      "Epoch 15/100\n",
      "\u001b[1m6577/6577\u001b[0m \u001b[32m━━━━━━━━━━━━━━━━━━━━\u001b[0m\u001b[37m\u001b[0m \u001b[1m29s\u001b[0m 4ms/step - loss: 2.0002e-04 - val_loss: 2.1302e-04\n",
      "Epoch 16/100\n",
      "\u001b[1m6577/6577\u001b[0m \u001b[32m━━━━━━━━━━━━━━━━━━━━\u001b[0m\u001b[37m\u001b[0m \u001b[1m29s\u001b[0m 4ms/step - loss: 1.9998e-04 - val_loss: 2.1336e-04\n",
      "Epoch 17/100\n",
      "\u001b[1m6577/6577\u001b[0m \u001b[32m━━━━━━━━━━━━━━━━━━━━\u001b[0m\u001b[37m\u001b[0m \u001b[1m29s\u001b[0m 4ms/step - loss: 1.9993e-04 - val_loss: 2.1315e-04\n",
      "Epoch 18/100\n",
      "\u001b[1m6577/6577\u001b[0m \u001b[32m━━━━━━━━━━━━━━━━━━━━\u001b[0m\u001b[37m\u001b[0m \u001b[1m29s\u001b[0m 4ms/step - loss: 1.9988e-04 - val_loss: 2.1327e-04\n",
      "Epoch 19/100\n",
      "\u001b[1m6577/6577\u001b[0m \u001b[32m━━━━━━━━━━━━━━━━━━━━\u001b[0m\u001b[37m\u001b[0m \u001b[1m29s\u001b[0m 4ms/step - loss: 1.9984e-04 - val_loss: 2.1342e-04\n",
      "Epoch 20/100\n",
      "\u001b[1m6577/6577\u001b[0m \u001b[32m━━━━━━━━━━━━━━━━━━━━\u001b[0m\u001b[37m\u001b[0m \u001b[1m29s\u001b[0m 4ms/step - loss: 1.9980e-04 - val_loss: 2.1328e-04\n",
      "Epoch 21/100\n",
      "\u001b[1m6577/6577\u001b[0m \u001b[32m━━━━━━━━━━━━━━━━━━━━\u001b[0m\u001b[37m\u001b[0m \u001b[1m29s\u001b[0m 4ms/step - loss: 1.9977e-04 - val_loss: 2.1391e-04\n",
      "Epoch 22/100\n",
      "\u001b[1m6577/6577\u001b[0m \u001b[32m━━━━━━━━━━━━━━━━━━━━\u001b[0m\u001b[37m\u001b[0m \u001b[1m29s\u001b[0m 4ms/step - loss: 1.9974e-04 - val_loss: 2.1355e-04\n",
      "Epoch 23/100\n",
      "\u001b[1m6577/6577\u001b[0m \u001b[32m━━━━━━━━━━━━━━━━━━━━\u001b[0m\u001b[37m\u001b[0m \u001b[1m29s\u001b[0m 4ms/step - loss: 1.9971e-04 - val_loss: 2.1410e-04\n",
      "Epoch 24/100\n",
      "\u001b[1m6577/6577\u001b[0m \u001b[32m━━━━━━━━━━━━━━━━━━━━\u001b[0m\u001b[37m\u001b[0m \u001b[1m29s\u001b[0m 4ms/step - loss: 1.9967e-04 - val_loss: 2.1327e-04\n",
      "Epoch 25/100\n",
      "\u001b[1m6577/6577\u001b[0m \u001b[32m━━━━━━━━━━━━━━━━━━━━\u001b[0m\u001b[37m\u001b[0m \u001b[1m30s\u001b[0m 4ms/step - loss: 1.9965e-04 - val_loss: 2.1366e-04\n",
      "Epoch 26/100\n",
      "\u001b[1m6577/6577\u001b[0m \u001b[32m━━━━━━━━━━━━━━━━━━━━\u001b[0m\u001b[37m\u001b[0m \u001b[1m29s\u001b[0m 4ms/step - loss: 1.9962e-04 - val_loss: 2.1367e-04\n",
      "Epoch 27/100\n",
      "\u001b[1m6577/6577\u001b[0m \u001b[32m━━━━━━━━━━━━━━━━━━━━\u001b[0m\u001b[37m\u001b[0m \u001b[1m29s\u001b[0m 4ms/step - loss: 1.9960e-04 - val_loss: 2.1363e-04\n",
      "Epoch 28/100\n",
      "\u001b[1m6577/6577\u001b[0m \u001b[32m━━━━━━━━━━━━━━━━━━━━\u001b[0m\u001b[37m\u001b[0m \u001b[1m29s\u001b[0m 4ms/step - loss: 1.9957e-04 - val_loss: 2.1358e-04\n",
      "Epoch 29/100\n",
      "\u001b[1m6577/6577\u001b[0m \u001b[32m━━━━━━━━━━━━━━━━━━━━\u001b[0m\u001b[37m\u001b[0m \u001b[1m29s\u001b[0m 4ms/step - loss: 1.9954e-04 - val_loss: 2.1366e-04\n",
      "Epoch 30/100\n",
      "\u001b[1m6577/6577\u001b[0m \u001b[32m━━━━━━━━━━━━━━━━━━━━\u001b[0m\u001b[37m\u001b[0m \u001b[1m29s\u001b[0m 4ms/step - loss: 1.9951e-04 - val_loss: 2.1403e-04\n",
      "Epoch 31/100\n",
      "\u001b[1m6577/6577\u001b[0m \u001b[32m━━━━━━━━━━━━━━━━━━━━\u001b[0m\u001b[37m\u001b[0m \u001b[1m30s\u001b[0m 4ms/step - loss: 1.9949e-04 - val_loss: 2.1361e-04\n",
      "Epoch 32/100\n",
      "\u001b[1m6577/6577\u001b[0m \u001b[32m━━━━━━━━━━━━━━━━━━━━\u001b[0m\u001b[37m\u001b[0m \u001b[1m29s\u001b[0m 4ms/step - loss: 1.9946e-04 - val_loss: 2.1414e-04\n",
      "Epoch 33/100\n",
      "\u001b[1m6577/6577\u001b[0m \u001b[32m━━━━━━━━━━━━━━━━━━━━\u001b[0m\u001b[37m\u001b[0m \u001b[1m29s\u001b[0m 4ms/step - loss: 1.9945e-04 - val_loss: 2.1461e-04\n",
      "Epoch 34/100\n",
      "\u001b[1m6577/6577\u001b[0m \u001b[32m━━━━━━━━━━━━━━━━━━━━\u001b[0m\u001b[37m\u001b[0m \u001b[1m29s\u001b[0m 4ms/step - loss: 1.9942e-04 - val_loss: 2.1418e-04\n",
      "Epoch 35/100\n",
      "\u001b[1m6577/6577\u001b[0m \u001b[32m━━━━━━━━━━━━━━━━━━━━\u001b[0m\u001b[37m\u001b[0m \u001b[1m29s\u001b[0m 4ms/step - loss: 1.9939e-04 - val_loss: 2.1380e-04\n",
      "Epoch 36/100\n",
      "\u001b[1m6577/6577\u001b[0m \u001b[32m━━━━━━━━━━━━━━━━━━━━\u001b[0m\u001b[37m\u001b[0m \u001b[1m29s\u001b[0m 4ms/step - loss: 1.9936e-04 - val_loss: 2.1418e-04\n",
      "Epoch 37/100\n",
      "\u001b[1m6577/6577\u001b[0m \u001b[32m━━━━━━━━━━━━━━━━━━━━\u001b[0m\u001b[37m\u001b[0m \u001b[1m29s\u001b[0m 4ms/step - loss: 1.9933e-04 - val_loss: 2.1371e-04\n",
      "Epoch 38/100\n",
      "\u001b[1m6577/6577\u001b[0m \u001b[32m━━━━━━━━━━━━━━━━━━━━\u001b[0m\u001b[37m\u001b[0m \u001b[1m29s\u001b[0m 4ms/step - loss: 1.9932e-04 - val_loss: 2.1480e-04\n",
      "Epoch 39/100\n",
      "\u001b[1m6577/6577\u001b[0m \u001b[32m━━━━━━━━━━━━━━━━━━━━\u001b[0m\u001b[37m\u001b[0m \u001b[1m29s\u001b[0m 4ms/step - loss: 1.9930e-04 - val_loss: 2.1463e-04\n",
      "Epoch 40/100\n",
      "\u001b[1m6577/6577\u001b[0m \u001b[32m━━━━━━━━━━━━━━━━━━━━\u001b[0m\u001b[37m\u001b[0m \u001b[1m29s\u001b[0m 4ms/step - loss: 1.9929e-04 - val_loss: 2.1412e-04\n",
      "Epoch 41/100\n",
      "\u001b[1m6577/6577\u001b[0m \u001b[32m━━━━━━━━━━━━━━━━━━━━\u001b[0m\u001b[37m\u001b[0m \u001b[1m29s\u001b[0m 4ms/step - loss: 1.9928e-04 - val_loss: 2.1461e-04\n",
      "Epoch 42/100\n",
      "\u001b[1m6577/6577\u001b[0m \u001b[32m━━━━━━━━━━━━━━━━━━━━\u001b[0m\u001b[37m\u001b[0m \u001b[1m29s\u001b[0m 4ms/step - loss: 1.9927e-04 - val_loss: 2.1464e-04\n",
      "Epoch 43/100\n",
      "\u001b[1m6577/6577\u001b[0m \u001b[32m━━━━━━━━━━━━━━━━━━━━\u001b[0m\u001b[37m\u001b[0m \u001b[1m30s\u001b[0m 5ms/step - loss: 1.9925e-04 - val_loss: 2.1434e-04\n",
      "Epoch 44/100\n",
      "\u001b[1m6577/6577\u001b[0m \u001b[32m━━━━━━━━━━━━━━━━━━━━\u001b[0m\u001b[37m\u001b[0m \u001b[1m30s\u001b[0m 4ms/step - loss: 1.9923e-04 - val_loss: 2.1414e-04\n",
      "Epoch 45/100\n",
      "\u001b[1m6577/6577\u001b[0m \u001b[32m━━━━━━━━━━━━━━━━━━━━\u001b[0m\u001b[37m\u001b[0m \u001b[1m29s\u001b[0m 4ms/step - loss: 1.9923e-04 - val_loss: 2.1447e-04\n",
      "Epoch 46/100\n",
      "\u001b[1m6577/6577\u001b[0m \u001b[32m━━━━━━━━━━━━━━━━━━━━\u001b[0m\u001b[37m\u001b[0m \u001b[1m29s\u001b[0m 4ms/step - loss: 1.9921e-04 - val_loss: 2.1456e-04\n",
      "Epoch 47/100\n",
      "\u001b[1m6577/6577\u001b[0m \u001b[32m━━━━━━━━━━━━━━━━━━━━\u001b[0m\u001b[37m\u001b[0m \u001b[1m29s\u001b[0m 4ms/step - loss: 1.9920e-04 - val_loss: 2.1423e-04\n",
      "Epoch 48/100\n",
      "\u001b[1m6577/6577\u001b[0m \u001b[32m━━━━━━━━━━━━━━━━━━━━\u001b[0m\u001b[37m\u001b[0m \u001b[1m30s\u001b[0m 4ms/step - loss: 1.9919e-04 - val_loss: 2.1406e-04\n",
      "Epoch 49/100\n",
      "\u001b[1m6577/6577\u001b[0m \u001b[32m━━━━━━━━━━━━━━━━━━━━\u001b[0m\u001b[37m\u001b[0m \u001b[1m29s\u001b[0m 4ms/step - loss: 1.9917e-04 - val_loss: 2.1429e-04\n",
      "Epoch 50/100\n",
      "\u001b[1m6577/6577\u001b[0m \u001b[32m━━━━━━━━━━━━━━━━━━━━\u001b[0m\u001b[37m\u001b[0m \u001b[1m29s\u001b[0m 4ms/step - loss: 1.9916e-04 - val_loss: 2.1431e-04\n",
      "Epoch 51/100\n",
      "\u001b[1m6577/6577\u001b[0m \u001b[32m━━━━━━━━━━━━━━━━━━━━\u001b[0m\u001b[37m\u001b[0m \u001b[1m30s\u001b[0m 4ms/step - loss: 1.9915e-04 - val_loss: 2.1407e-04\n",
      "Epoch 52/100\n",
      "\u001b[1m6577/6577\u001b[0m \u001b[32m━━━━━━━━━━━━━━━━━━━━\u001b[0m\u001b[37m\u001b[0m \u001b[1m30s\u001b[0m 4ms/step - loss: 1.9913e-04 - val_loss: 2.1425e-04\n",
      "Epoch 53/100\n",
      "\u001b[1m6577/6577\u001b[0m \u001b[32m━━━━━━━━━━━━━━━━━━━━\u001b[0m\u001b[37m\u001b[0m \u001b[1m29s\u001b[0m 4ms/step - loss: 1.9912e-04 - val_loss: 2.1426e-04\n",
      "Epoch 54/100\n",
      "\u001b[1m6577/6577\u001b[0m \u001b[32m━━━━━━━━━━━━━━━━━━━━\u001b[0m\u001b[37m\u001b[0m \u001b[1m29s\u001b[0m 4ms/step - loss: 1.9910e-04 - val_loss: 2.1405e-04\n",
      "Epoch 55/100\n",
      "\u001b[1m6577/6577\u001b[0m \u001b[32m━━━━━━━━━━━━━━━━━━━━\u001b[0m\u001b[37m\u001b[0m \u001b[1m30s\u001b[0m 4ms/step - loss: 1.9910e-04 - val_loss: 2.1423e-04\n",
      "Epoch 56/100\n",
      "\u001b[1m6577/6577\u001b[0m \u001b[32m━━━━━━━━━━━━━━━━━━━━\u001b[0m\u001b[37m\u001b[0m \u001b[1m30s\u001b[0m 4ms/step - loss: 1.9909e-04 - val_loss: 2.1425e-04\n",
      "Epoch 57/100\n",
      "\u001b[1m6577/6577\u001b[0m \u001b[32m━━━━━━━━━━━━━━━━━━━━\u001b[0m\u001b[37m\u001b[0m \u001b[1m30s\u001b[0m 4ms/step - loss: 1.9909e-04 - val_loss: 2.1442e-04\n",
      "Epoch 58/100\n",
      "\u001b[1m6577/6577\u001b[0m \u001b[32m━━━━━━━━━━━━━━━━━━━━\u001b[0m\u001b[37m\u001b[0m \u001b[1m29s\u001b[0m 4ms/step - loss: 1.9907e-04 - val_loss: 2.1433e-04\n",
      "Epoch 59/100\n",
      "\u001b[1m6577/6577\u001b[0m \u001b[32m━━━━━━━━━━━━━━━━━━━━\u001b[0m\u001b[37m\u001b[0m \u001b[1m29s\u001b[0m 4ms/step - loss: 1.9906e-04 - val_loss: 2.1428e-04\n",
      "Epoch 60/100\n",
      "\u001b[1m6577/6577\u001b[0m \u001b[32m━━━━━━━━━━━━━━━━━━━━\u001b[0m\u001b[37m\u001b[0m \u001b[1m30s\u001b[0m 4ms/step - loss: 1.9904e-04 - val_loss: 2.1414e-04\n",
      "Epoch 61/100\n",
      "\u001b[1m6577/6577\u001b[0m \u001b[32m━━━━━━━━━━━━━━━━━━━━\u001b[0m\u001b[37m\u001b[0m \u001b[1m29s\u001b[0m 4ms/step - loss: 1.9904e-04 - val_loss: 2.1430e-04\n",
      "Epoch 62/100\n",
      "\u001b[1m6577/6577\u001b[0m \u001b[32m━━━━━━━━━━━━━━━━━━━━\u001b[0m\u001b[37m\u001b[0m \u001b[1m29s\u001b[0m 4ms/step - loss: 1.9902e-04 - val_loss: 2.1390e-04\n",
      "Epoch 63/100\n",
      "\u001b[1m6577/6577\u001b[0m \u001b[32m━━━━━━━━━━━━━━━━━━━━\u001b[0m\u001b[37m\u001b[0m \u001b[1m30s\u001b[0m 4ms/step - loss: 1.9902e-04 - val_loss: 2.1431e-04\n",
      "Epoch 64/100\n",
      "\u001b[1m6577/6577\u001b[0m \u001b[32m━━━━━━━━━━━━━━━━━━━━\u001b[0m\u001b[37m\u001b[0m \u001b[1m30s\u001b[0m 5ms/step - loss: 1.9901e-04 - val_loss: 2.1429e-04\n",
      "Epoch 65/100\n",
      "\u001b[1m6577/6577\u001b[0m \u001b[32m━━━━━━━━━━━━━━━━━━━━\u001b[0m\u001b[37m\u001b[0m \u001b[1m29s\u001b[0m 4ms/step - loss: 1.9900e-04 - val_loss: 2.1380e-04\n",
      "Epoch 66/100\n",
      "\u001b[1m6577/6577\u001b[0m \u001b[32m━━━━━━━━━━━━━━━━━━━━\u001b[0m\u001b[37m\u001b[0m \u001b[1m30s\u001b[0m 5ms/step - loss: 1.9900e-04 - val_loss: 2.1408e-04\n",
      "Epoch 67/100\n",
      "\u001b[1m6577/6577\u001b[0m \u001b[32m━━━━━━━━━━━━━━━━━━━━\u001b[0m\u001b[37m\u001b[0m \u001b[1m29s\u001b[0m 4ms/step - loss: 1.9898e-04 - val_loss: 2.1396e-04\n",
      "Epoch 68/100\n",
      "\u001b[1m6577/6577\u001b[0m \u001b[32m━━━━━━━━━━━━━━━━━━━━\u001b[0m\u001b[37m\u001b[0m \u001b[1m30s\u001b[0m 5ms/step - loss: 1.9898e-04 - val_loss: 2.1415e-04\n",
      "Epoch 69/100\n",
      "\u001b[1m6577/6577\u001b[0m \u001b[32m━━━━━━━━━━━━━━━━━━━━\u001b[0m\u001b[37m\u001b[0m \u001b[1m29s\u001b[0m 4ms/step - loss: 1.9897e-04 - val_loss: 2.1398e-04\n",
      "Epoch 70/100\n",
      "\u001b[1m6577/6577\u001b[0m \u001b[32m━━━━━━━━━━━━━━━━━━━━\u001b[0m\u001b[37m\u001b[0m \u001b[1m29s\u001b[0m 4ms/step - loss: 1.9897e-04 - val_loss: 2.1403e-04\n",
      "Epoch 71/100\n",
      "\u001b[1m6577/6577\u001b[0m \u001b[32m━━━━━━━━━━━━━━━━━━━━\u001b[0m\u001b[37m\u001b[0m \u001b[1m29s\u001b[0m 4ms/step - loss: 1.9895e-04 - val_loss: 2.1411e-04\n",
      "Epoch 72/100\n",
      "\u001b[1m6577/6577\u001b[0m \u001b[32m━━━━━━━━━━━━━━━━━━━━\u001b[0m\u001b[37m\u001b[0m \u001b[1m30s\u001b[0m 4ms/step - loss: 1.9895e-04 - val_loss: 2.1394e-04\n",
      "Epoch 73/100\n",
      "\u001b[1m6577/6577\u001b[0m \u001b[32m━━━━━━━━━━━━━━━━━━━━\u001b[0m\u001b[37m\u001b[0m \u001b[1m29s\u001b[0m 4ms/step - loss: 1.9894e-04 - val_loss: 2.1384e-04\n",
      "Epoch 74/100\n",
      "\u001b[1m6577/6577\u001b[0m \u001b[32m━━━━━━━━━━━━━━━━━━━━\u001b[0m\u001b[37m\u001b[0m \u001b[1m30s\u001b[0m 5ms/step - loss: 1.9894e-04 - val_loss: 2.1395e-04\n",
      "Epoch 75/100\n",
      "\u001b[1m6577/6577\u001b[0m \u001b[32m━━━━━━━━━━━━━━━━━━━━\u001b[0m\u001b[37m\u001b[0m \u001b[1m30s\u001b[0m 4ms/step - loss: 1.9893e-04 - val_loss: 2.1368e-04\n",
      "Epoch 76/100\n",
      "\u001b[1m6577/6577\u001b[0m \u001b[32m━━━━━━━━━━━━━━━━━━━━\u001b[0m\u001b[37m\u001b[0m \u001b[1m30s\u001b[0m 4ms/step - loss: 1.9893e-04 - val_loss: 2.1346e-04\n",
      "Epoch 77/100\n",
      "\u001b[1m6577/6577\u001b[0m \u001b[32m━━━━━━━━━━━━━━━━━━━━\u001b[0m\u001b[37m\u001b[0m \u001b[1m30s\u001b[0m 4ms/step - loss: 1.9893e-04 - val_loss: 2.1363e-04\n",
      "Epoch 78/100\n",
      "\u001b[1m6577/6577\u001b[0m \u001b[32m━━━━━━━━━━━━━━━━━━━━\u001b[0m\u001b[37m\u001b[0m \u001b[1m30s\u001b[0m 4ms/step - loss: 1.9893e-04 - val_loss: 2.1372e-04\n",
      "Epoch 79/100\n",
      "\u001b[1m6577/6577\u001b[0m \u001b[32m━━━━━━━━━━━━━━━━━━━━\u001b[0m\u001b[37m\u001b[0m \u001b[1m29s\u001b[0m 4ms/step - loss: 1.9892e-04 - val_loss: 2.1356e-04\n",
      "Epoch 80/100\n",
      "\u001b[1m6577/6577\u001b[0m \u001b[32m━━━━━━━━━━━━━━━━━━━━\u001b[0m\u001b[37m\u001b[0m \u001b[1m29s\u001b[0m 4ms/step - loss: 1.9891e-04 - val_loss: 2.1363e-04\n",
      "Epoch 81/100\n",
      "\u001b[1m6577/6577\u001b[0m \u001b[32m━━━━━━━━━━━━━━━━━━━━\u001b[0m\u001b[37m\u001b[0m \u001b[1m30s\u001b[0m 4ms/step - loss: 1.9891e-04 - val_loss: 2.1359e-04\n",
      "Epoch 82/100\n",
      "\u001b[1m6577/6577\u001b[0m \u001b[32m━━━━━━━━━━━━━━━━━━━━\u001b[0m\u001b[37m\u001b[0m \u001b[1m29s\u001b[0m 4ms/step - loss: 1.9890e-04 - val_loss: 2.1365e-04\n",
      "Epoch 83/100\n",
      "\u001b[1m6577/6577\u001b[0m \u001b[32m━━━━━━━━━━━━━━━━━━━━\u001b[0m\u001b[37m\u001b[0m \u001b[1m29s\u001b[0m 4ms/step - loss: 1.9889e-04 - val_loss: 2.1365e-04\n",
      "Epoch 84/100\n",
      "\u001b[1m6577/6577\u001b[0m \u001b[32m━━━━━━━━━━━━━━━━━━━━\u001b[0m\u001b[37m\u001b[0m \u001b[1m30s\u001b[0m 4ms/step - loss: 1.9888e-04 - val_loss: 2.1358e-04\n",
      "Epoch 85/100\n",
      "\u001b[1m6577/6577\u001b[0m \u001b[32m━━━━━━━━━━━━━━━━━━━━\u001b[0m\u001b[37m\u001b[0m \u001b[1m30s\u001b[0m 5ms/step - loss: 1.9888e-04 - val_loss: 2.1343e-04\n",
      "Epoch 86/100\n",
      "\u001b[1m6577/6577\u001b[0m \u001b[32m━━━━━━━━━━━━━━━━━━━━\u001b[0m\u001b[37m\u001b[0m \u001b[1m30s\u001b[0m 5ms/step - loss: 1.9887e-04 - val_loss: 2.1352e-04\n",
      "Epoch 87/100\n",
      "\u001b[1m6577/6577\u001b[0m \u001b[32m━━━━━━━━━━━━━━━━━━━━\u001b[0m\u001b[37m\u001b[0m \u001b[1m30s\u001b[0m 4ms/step - loss: 1.9887e-04 - val_loss: 2.1377e-04\n",
      "Epoch 88/100\n",
      "\u001b[1m6577/6577\u001b[0m \u001b[32m━━━━━━━━━━━━━━━━━━━━\u001b[0m\u001b[37m\u001b[0m \u001b[1m29s\u001b[0m 4ms/step - loss: 1.9886e-04 - val_loss: 2.1353e-04\n",
      "Epoch 89/100\n",
      "\u001b[1m6577/6577\u001b[0m \u001b[32m━━━━━━━━━━━━━━━━━━━━\u001b[0m\u001b[37m\u001b[0m \u001b[1m29s\u001b[0m 4ms/step - loss: 1.9886e-04 - val_loss: 2.1361e-04\n",
      "Epoch 90/100\n",
      "\u001b[1m6577/6577\u001b[0m \u001b[32m━━━━━━━━━━━━━━━━━━━━\u001b[0m\u001b[37m\u001b[0m \u001b[1m30s\u001b[0m 4ms/step - loss: 1.9885e-04 - val_loss: 2.1356e-04\n",
      "Epoch 91/100\n",
      "\u001b[1m6577/6577\u001b[0m \u001b[32m━━━━━━━━━━━━━━━━━━━━\u001b[0m\u001b[37m\u001b[0m \u001b[1m29s\u001b[0m 4ms/step - loss: 1.9885e-04 - val_loss: 2.1380e-04\n",
      "Epoch 92/100\n",
      "\u001b[1m6577/6577\u001b[0m \u001b[32m━━━━━━━━━━━━━━━━━━━━\u001b[0m\u001b[37m\u001b[0m \u001b[1m30s\u001b[0m 5ms/step - loss: 1.9885e-04 - val_loss: 2.1375e-04\n",
      "Epoch 93/100\n",
      "\u001b[1m6577/6577\u001b[0m \u001b[32m━━━━━━━━━━━━━━━━━━━━\u001b[0m\u001b[37m\u001b[0m \u001b[1m30s\u001b[0m 4ms/step - loss: 1.9885e-04 - val_loss: 2.1352e-04\n",
      "Epoch 94/100\n",
      "\u001b[1m6577/6577\u001b[0m \u001b[32m━━━━━━━━━━━━━━━━━━━━\u001b[0m\u001b[37m\u001b[0m \u001b[1m29s\u001b[0m 4ms/step - loss: 1.9884e-04 - val_loss: 2.1364e-04\n",
      "Epoch 95/100\n",
      "\u001b[1m6577/6577\u001b[0m \u001b[32m━━━━━━━━━━━━━━━━━━━━\u001b[0m\u001b[37m\u001b[0m \u001b[1m30s\u001b[0m 4ms/step - loss: 1.9885e-04 - val_loss: 2.1406e-04\n",
      "Epoch 96/100\n",
      "\u001b[1m6577/6577\u001b[0m \u001b[32m━━━━━━━━━━━━━━━━━━━━\u001b[0m\u001b[37m\u001b[0m \u001b[1m29s\u001b[0m 4ms/step - loss: 1.9884e-04 - val_loss: 2.1372e-04\n",
      "Epoch 97/100\n",
      "\u001b[1m6577/6577\u001b[0m \u001b[32m━━━━━━━━━━━━━━━━━━━━\u001b[0m\u001b[37m\u001b[0m \u001b[1m30s\u001b[0m 5ms/step - loss: 1.9883e-04 - val_loss: 2.1364e-04\n",
      "Epoch 98/100\n",
      "\u001b[1m6577/6577\u001b[0m \u001b[32m━━━━━━━━━━━━━━━━━━━━\u001b[0m\u001b[37m\u001b[0m \u001b[1m30s\u001b[0m 4ms/step - loss: 1.9883e-04 - val_loss: 2.1374e-04\n",
      "Epoch 99/100\n",
      "\u001b[1m6577/6577\u001b[0m \u001b[32m━━━━━━━━━━━━━━━━━━━━\u001b[0m\u001b[37m\u001b[0m \u001b[1m30s\u001b[0m 4ms/step - loss: 1.9882e-04 - val_loss: 2.1384e-04\n",
      "Epoch 100/100\n",
      "\u001b[1m6577/6577\u001b[0m \u001b[32m━━━━━━━━━━━━━━━━━━━━\u001b[0m\u001b[37m\u001b[0m \u001b[1m29s\u001b[0m 4ms/step - loss: 1.9882e-04 - val_loss: 2.1405e-04\n"
     ]
    },
    {
     "name": "stderr",
     "output_type": "stream",
     "text": [
      "WARNING:absl:You are saving your model as an HDF5 file via `model.save()` or `keras.saving.save_model(model)`. This file format is considered legacy. We recommend using instead the native Keras format, e.g. `model.save('my_model.keras')` or `keras.saving.save_model(model, 'my_model.keras')`. \n"
     ]
    }
   ],
   "source": [
    "final_model = create_model(input_shape=(X_train.shape[1], X_train.shape[2]), output_steps=output_steps)\n",
    "history = final_model.fit(X_train, y_train, epochs=100, batch_size=64, validation_split=0.2)\n",
    "final_model.save('rain_prediction_model_v2.h5')\n"
   ]
  },
  {
   "cell_type": "code",
   "execution_count": 23,
   "metadata": {},
   "outputs": [
    {
     "name": "stdout",
     "output_type": "stream",
     "text": [
      "\u001b[1m4111/4111\u001b[0m \u001b[32m━━━━━━━━━━━━━━━━━━━━\u001b[0m\u001b[37m\u001b[0m \u001b[1m8s\u001b[0m 2ms/step\n",
      "Test MSE: 0.0008247411227176889\n",
      "Test MAE: 0.010146113436091588\n",
      "Test R2: 0.06446612596063916\n"
     ]
    },
    {
     "data": {
      "image/png": "[encoded data removed]",
      "text/plain": [
       "<Figure size 1000x600 with 1 Axes>"
      ]
     },
     "metadata": {},
     "output_type": "display_data"
    }
   ],
   "source": [
    "from sklearn.metrics import mean_squared_error, mean_absolute_error, r2_score\n",
    "\n",
    "y_pred = final_model.predict(X_test)\n",
    "mse_test = mean_squared_error(y_test.flatten(), y_pred.flatten())\n",
    "mae_test = mean_absolute_error(y_test.flatten(), y_pred.flatten())\n",
    "r2_test = r2_score(y_test.flatten(), y_pred.flatten())\n",
    "\n",
    "print(\"Test MSE:\", mse_test)\n",
    "print(\"Test MAE:\", mae_test)\n",
    "print(\"Test R2:\", r2_test)\n",
    "\n",
    "plt.figure(figsize=(10, 6))\n",
    "plt.plot(y_test[0], marker='o', label='Actual')\n",
    "plt.plot(y_pred[0], marker='x', label='Predicted')\n",
    "plt.xlabel('Hour')\n",
    "plt.ylabel('Rain value')\n",
    "plt.title('Actual vs Predicted Rain for the first test sample')\n",
    "plt.legend()\n",
    "plt.show()\n"
   ]
  },
  {
   "cell_type": "code",
   "execution_count": 24,
   "metadata": {},
   "outputs": [
    {
     "name": "stdout",
     "output_type": "stream",
     "text": [
      "XGB Test MSE: 0.0009023850527199618\n",
      "XGB Test MAE: 0.010273487763668893\n",
      "XGB Test R2: -0.02360820988829815\n"
     ]
    },
    {
     "data": {
      "image/png": "[encoded data removed]",
      "text/plain": [
       "<Figure size 1000x600 with 1 Axes>"
      ]
     },
     "metadata": {},
     "output_type": "display_data"
    }
   ],
   "source": [
    "import xgboost as xgb\n",
    "from sklearn.multioutput import MultiOutputRegressor\n",
    "from sklearn.metrics import mean_squared_error, mean_absolute_error, r2_score\n",
    "\n",
    "# Flatten X_train và X_test từ (samples, input_steps, features) sang (samples, input_steps*features)\n",
    "X_train_xgb = X_train.reshape(X_train.shape[0], -1)\n",
    "X_test_xgb = X_test.reshape(X_test.shape[0], -1)\n",
    "\n",
    "# Khởi tạo mô hình XGB cho bài toán multi-output\n",
    "xgb_reg = MultiOutputRegressor(xgb.XGBRegressor(objective='reg:squarederror', random_state=42))\n",
    "xgb_reg.fit(X_train_xgb, y_train)\n",
    "\n",
    "# Dự đoán trên tập test với XGB\n",
    "y_pred_xgb = xgb_reg.predict(X_test_xgb)\n",
    "\n",
    "mse_xgb = mean_squared_error(y_test.flatten(), y_pred_xgb.flatten())\n",
    "mae_xgb = mean_absolute_error(y_test.flatten(), y_pred_xgb.flatten())\n",
    "r2_xgb = r2_score(y_test.flatten(), y_pred_xgb.flatten())\n",
    "\n",
    "print(\"XGB Test MSE:\", mse_xgb)\n",
    "print(\"XGB Test MAE:\", mae_xgb)\n",
    "print(\"XGB Test R2:\", r2_xgb)\n",
    "\n",
    "plt.figure(figsize=(10, 6))\n",
    "plt.plot(y_test[0], marker='o', label='Actual')\n",
    "plt.plot(y_pred_xgb[0], marker='x', label='Predicted XGB')\n",
    "plt.xlabel('Hour')\n",
    "plt.ylabel('Rain value')\n",
    "plt.title('Actual vs Predicted Rain for the first test sample (XGB)')\n",
    "plt.legend()\n",
    "plt.show()\n"
   ]
  },
  {
   "cell_type": "code",
   "execution_count": 25,
   "metadata": {},
   "outputs": [
    {
     "name": "stdout",
     "output_type": "stream",
     "text": [
      "Ensemble Test MSE: 0.0008401431526881982\n",
      "Ensemble Test MAE: 0.010038847357369882\n",
      "Ensemble Test R2: 0.04699504276922506\n"
     ]
    },
    {
     "data": {
      "image/png": "[encoded data removed]",
      "text/plain": [
       "<Figure size 1000x600 with 1 Axes>"
      ]
     },
     "metadata": {},
     "output_type": "display_data"
    }
   ],
   "source": [
    "# Giả sử y_pred là dự đoán từ LSTM và y_pred_xgb là dự đoán từ XGB đã có\n",
    "y_pred_ensemble = (y_pred + y_pred_xgb) / 2\n",
    "\n",
    "# Tính các chỉ số cho dự đoán kết hợp\n",
    "mse_ensemble = mean_squared_error(y_test.flatten(), y_pred_ensemble.flatten())\n",
    "mae_ensemble = mean_absolute_error(y_test.flatten(), y_pred_ensemble.flatten())\n",
    "r2_ensemble = r2_score(y_test.flatten(), y_pred_ensemble.flatten())\n",
    "\n",
    "print(\"Ensemble Test MSE:\", mse_ensemble)\n",
    "print(\"Ensemble Test MAE:\", mae_ensemble)\n",
    "print(\"Ensemble Test R2:\", r2_ensemble)\n",
    "\n",
    "plt.figure(figsize=(10, 6))\n",
    "plt.plot(y_test[0], marker='o', label='Actual')\n",
    "plt.plot(y_pred_ensemble[0], marker='x', label='Ensemble Predicted')\n",
    "plt.xlabel('Hour')\n",
    "plt.ylabel('Rain value')\n",
    "plt.title('Actual vs Predicted Rain for the first test sample (Ensemble)')\n",
    "plt.legend()\n",
    "plt.show()\n"
   ]
  }
 ],
 "metadata": {
  "kernelspec": {
   "display_name": "ai_train",
   "language": "python",
   "name": "python3"
  },
  "language_info": {
   "codemirror_mode": {
    "name": "ipython",
    "version": 3
   },
   "file_extension": ".py",
   "mimetype": "text/x-python",
   "name": "python",
   "nbconvert_exporter": "python",
   "pygments_lexer": "ipython3",
   "version": "3.12.9"
  }
 },
 "nbformat": 4,
 "nbformat_minor": 2
}
