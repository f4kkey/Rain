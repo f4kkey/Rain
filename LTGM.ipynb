{
 "cells": [
  {
   "cell_type": "code",
   "execution_count": 2,
   "metadata": {},
   "outputs": [],
   "source": [
    "import numpy as np\n",
    "import pandas as pd\n",
    "import matplotlib.pyplot as plt\n",
    "from datetime import datetime\n",
    "from sklearn.metrics import mean_squared_error, r2_score\n",
    "import tensorflow as tf\n",
    "from tensorflow.keras.models import Sequential\n",
    "from tensorflow.keras.layers import LSTM, Dense, TimeDistributed\n",
    "from tensorflow.keras.callbacks import EarlyStopping\n",
    "\n",
    "# Thiết lập seed để kết quả tái lập được\n",
    "np.random.seed(42)\n",
    "tf.random.set_seed(42)\n",
    "\n",
    "# Thiết lập các tham số\n",
    "input_steps = 6   # Số giờ làm đầu vào\n",
    "output_steps = 6  # Số giờ dự báo sau\n"
   ]
  },
  {
   "cell_type": "code",
   "execution_count": 3,
   "metadata": {},
   "outputs": [
    {
     "data": {
      "text/html": [
       "<div>\n",
       "<style scoped>\n",
       "    .dataframe tbody tr th:only-of-type {\n",
       "        vertical-align: middle;\n",
       "    }\n",
       "\n",
       "    .dataframe tbody tr th {\n",
       "        vertical-align: top;\n",
       "    }\n",
       "\n",
       "    .dataframe thead th {\n",
       "        text-align: right;\n",
       "    }\n",
       "</style>\n",
       "<table border=\"1\" class=\"dataframe\">\n",
       "  <thead>\n",
       "    <tr style=\"text-align: right;\">\n",
       "      <th></th>\n",
       "      <th>row</th>\n",
       "      <th>col</th>\n",
       "      <th>datetime</th>\n",
       "      <th>AWS</th>\n",
       "      <th>CAPE</th>\n",
       "      <th>CIN</th>\n",
       "      <th>EWSS</th>\n",
       "      <th>IE</th>\n",
       "      <th>ISOR</th>\n",
       "      <th>KX</th>\n",
       "      <th>...</th>\n",
       "      <th>SLHF</th>\n",
       "      <th>SLOR</th>\n",
       "      <th>SSHF</th>\n",
       "      <th>TCLW</th>\n",
       "      <th>TCW</th>\n",
       "      <th>TCWV</th>\n",
       "      <th>U250</th>\n",
       "      <th>U850</th>\n",
       "      <th>V250</th>\n",
       "      <th>V850</th>\n",
       "    </tr>\n",
       "  </thead>\n",
       "  <tbody>\n",
       "    <tr>\n",
       "      <th>0</th>\n",
       "      <td>0</td>\n",
       "      <td>104</td>\n",
       "      <td>2020-10-01 00:00:00</td>\n",
       "      <td>0.0</td>\n",
       "      <td>197.25</td>\n",
       "      <td>61.953484</td>\n",
       "      <td>-113.054688</td>\n",
       "      <td>-0.000017</td>\n",
       "      <td>0.676296</td>\n",
       "      <td>36.621414</td>\n",
       "      <td>...</td>\n",
       "      <td>-59037</td>\n",
       "      <td>0.023543</td>\n",
       "      <td>-27549</td>\n",
       "      <td>0.373413</td>\n",
       "      <td>59.393524</td>\n",
       "      <td>59.004852</td>\n",
       "      <td>-5.800369</td>\n",
       "      <td>-0.907883</td>\n",
       "      <td>-0.157303</td>\n",
       "      <td>3.689789</td>\n",
       "    </tr>\n",
       "    <tr>\n",
       "      <th>1</th>\n",
       "      <td>0</td>\n",
       "      <td>104</td>\n",
       "      <td>2020-10-01 01:00:00</td>\n",
       "      <td>0.0</td>\n",
       "      <td>138.50</td>\n",
       "      <td>9999.000000</td>\n",
       "      <td>-128.285156</td>\n",
       "      <td>-0.000038</td>\n",
       "      <td>0.676296</td>\n",
       "      <td>36.078514</td>\n",
       "      <td>...</td>\n",
       "      <td>-203202</td>\n",
       "      <td>0.023543</td>\n",
       "      <td>-64968</td>\n",
       "      <td>0.274780</td>\n",
       "      <td>59.516571</td>\n",
       "      <td>59.215790</td>\n",
       "      <td>-5.511688</td>\n",
       "      <td>-0.485977</td>\n",
       "      <td>-0.572311</td>\n",
       "      <td>3.517319</td>\n",
       "    </tr>\n",
       "    <tr>\n",
       "      <th>2</th>\n",
       "      <td>0</td>\n",
       "      <td>104</td>\n",
       "      <td>2020-10-01 02:00:00</td>\n",
       "      <td>0.0</td>\n",
       "      <td>102.00</td>\n",
       "      <td>9999.000000</td>\n",
       "      <td>-120.671875</td>\n",
       "      <td>-0.000055</td>\n",
       "      <td>0.676296</td>\n",
       "      <td>35.410492</td>\n",
       "      <td>...</td>\n",
       "      <td>-376145</td>\n",
       "      <td>0.023543</td>\n",
       "      <td>-81566</td>\n",
       "      <td>0.194763</td>\n",
       "      <td>59.715759</td>\n",
       "      <td>59.483337</td>\n",
       "      <td>-4.963364</td>\n",
       "      <td>-0.448380</td>\n",
       "      <td>-1.284912</td>\n",
       "      <td>3.182495</td>\n",
       "    </tr>\n",
       "    <tr>\n",
       "      <th>3</th>\n",
       "      <td>0</td>\n",
       "      <td>104</td>\n",
       "      <td>2020-10-01 03:00:00</td>\n",
       "      <td>0.0</td>\n",
       "      <td>160.75</td>\n",
       "      <td>9999.000000</td>\n",
       "      <td>-169.191406</td>\n",
       "      <td>-0.000064</td>\n",
       "      <td>0.676296</td>\n",
       "      <td>34.843140</td>\n",
       "      <td>...</td>\n",
       "      <td>-609080</td>\n",
       "      <td>0.023543</td>\n",
       "      <td>-101141</td>\n",
       "      <td>0.187439</td>\n",
       "      <td>60.249374</td>\n",
       "      <td>60.005234</td>\n",
       "      <td>-4.379272</td>\n",
       "      <td>-0.892761</td>\n",
       "      <td>-2.056778</td>\n",
       "      <td>2.465332</td>\n",
       "    </tr>\n",
       "    <tr>\n",
       "      <th>4</th>\n",
       "      <td>0</td>\n",
       "      <td>104</td>\n",
       "      <td>2020-10-01 04:00:00</td>\n",
       "      <td>0.0</td>\n",
       "      <td>204.50</td>\n",
       "      <td>213.468903</td>\n",
       "      <td>-304.347656</td>\n",
       "      <td>-0.000112</td>\n",
       "      <td>0.676296</td>\n",
       "      <td>34.893394</td>\n",
       "      <td>...</td>\n",
       "      <td>-654851</td>\n",
       "      <td>0.023543</td>\n",
       "      <td>-97831</td>\n",
       "      <td>0.104156</td>\n",
       "      <td>60.974991</td>\n",
       "      <td>60.775604</td>\n",
       "      <td>-3.959961</td>\n",
       "      <td>-1.550842</td>\n",
       "      <td>-2.280151</td>\n",
       "      <td>1.559830</td>\n",
       "    </tr>\n",
       "  </tbody>\n",
       "</table>\n",
       "<p>5 rows × 24 columns</p>\n",
       "</div>"
      ],
      "text/plain": [
       "   row  col            datetime  AWS    CAPE          CIN        EWSS  \\\n",
       "0    0  104 2020-10-01 00:00:00  0.0  197.25    61.953484 -113.054688   \n",
       "1    0  104 2020-10-01 01:00:00  0.0  138.50  9999.000000 -128.285156   \n",
       "2    0  104 2020-10-01 02:00:00  0.0  102.00  9999.000000 -120.671875   \n",
       "3    0  104 2020-10-01 03:00:00  0.0  160.75  9999.000000 -169.191406   \n",
       "4    0  104 2020-10-01 04:00:00  0.0  204.50   213.468903 -304.347656   \n",
       "\n",
       "         IE      ISOR         KX  ...    SLHF      SLOR    SSHF      TCLW  \\\n",
       "0 -0.000017  0.676296  36.621414  ...  -59037  0.023543  -27549  0.373413   \n",
       "1 -0.000038  0.676296  36.078514  ... -203202  0.023543  -64968  0.274780   \n",
       "2 -0.000055  0.676296  35.410492  ... -376145  0.023543  -81566  0.194763   \n",
       "3 -0.000064  0.676296  34.843140  ... -609080  0.023543 -101141  0.187439   \n",
       "4 -0.000112  0.676296  34.893394  ... -654851  0.023543  -97831  0.104156   \n",
       "\n",
       "         TCW       TCWV      U250      U850      V250      V850  \n",
       "0  59.393524  59.004852 -5.800369 -0.907883 -0.157303  3.689789  \n",
       "1  59.516571  59.215790 -5.511688 -0.485977 -0.572311  3.517319  \n",
       "2  59.715759  59.483337 -4.963364 -0.448380 -1.284912  3.182495  \n",
       "3  60.249374  60.005234 -4.379272 -0.892761 -2.056778  2.465332  \n",
       "4  60.974991  60.775604 -3.959961 -1.550842 -2.280151  1.559830  \n",
       "\n",
       "[5 rows x 24 columns]"
      ]
     },
     "execution_count": 3,
     "metadata": {},
     "output_type": "execute_result"
    }
   ],
   "source": [
    "import pandas as pd\n",
    "data_file = \"data_readed.xlsx\"\n",
    "df = pd.read_excel(data_file)\n",
    "df.head()\n"
   ]
  },
  {
   "cell_type": "code",
   "execution_count": 4,
   "metadata": {},
   "outputs": [
    {
     "name": "stdout",
     "output_type": "stream",
     "text": [
      "count    657681.000000\n",
      "mean          0.363923\n",
      "std           2.258714\n",
      "min           0.000000\n",
      "25%           0.000000\n",
      "50%           0.000000\n",
      "75%           0.000000\n",
      "max         121.599998\n",
      "Name: AWS, dtype: float64\n"
     ]
    },
    {
     "name": "stderr",
     "output_type": "stream",
     "text": [
      "C:\\Users\\giakh\\AppData\\Local\\Temp\\ipykernel_24248\\791188884.py:3: FutureWarning: Series.fillna with 'method' is deprecated and will raise in a future version. Use obj.ffill() or obj.bfill() instead.\n",
      "  df['AWS'] = df['AWS'].fillna(method='ffill')\n"
     ]
    }
   ],
   "source": [
    "df['datetime'] = pd.to_datetime(df['datetime'])\n",
    "df = df.sort_values(by='datetime').reset_index(drop=True)\n",
    "df['AWS'] = df['AWS'].fillna(method='ffill')\n",
    "\n",
    "print(df['AWS'].describe())\n",
    "\n",
    "\n",
    "rain_series = df['AWS'].values\n",
    "\n",
    "min_val = rain_series.min()\n",
    "max_val = rain_series.max()\n",
    "rain_series_norm = (rain_series - min_val) / (max_val - min_val)\n"
   ]
  },
  {
   "cell_type": "code",
   "execution_count": 5,
   "metadata": {},
   "outputs": [
    {
     "name": "stdout",
     "output_type": "stream",
     "text": [
      "Shape của X_seq: (657670, 6, 1)\n",
      "Shape của y_seq: (657670, 6, 1)\n"
     ]
    }
   ],
   "source": [
    "def create_sequences(series, input_steps, output_steps):\n",
    "    \"\"\"\n",
    "    Hàm tạo chuỗi dữ liệu cho bài toán dự báo đa bước.\n",
    "    Input:\n",
    "      - series: mảng 1D của dữ liệu (đã chuẩn hóa)\n",
    "      - input_steps: số bước thời gian đầu vào\n",
    "      - output_steps: số bước thời gian cần dự báo\n",
    "    Output:\n",
    "      - X: mảng đầu vào với shape (samples, input_steps)\n",
    "      - y: mảng nhãn với shape (samples, output_steps)\n",
    "    \"\"\"\n",
    "    X, y = [], []\n",
    "    total_steps = input_steps + output_steps\n",
    "    for i in range(len(series) - total_steps + 1):\n",
    "        X.append(series[i:i+input_steps])\n",
    "        y.append(series[i+input_steps:i+total_steps])\n",
    "    return np.array(X), np.array(y)\n",
    "\n",
    "# Tạo các chuỗi dữ liệu\n",
    "X_seq, y_seq = create_sequences(rain_series_norm, input_steps, output_steps)\n",
    "\n",
    "# Reshape về dạng (samples, time_steps, features) – với features = 1\n",
    "X_seq = X_seq.reshape(-1, input_steps, 1)\n",
    "y_seq = y_seq.reshape(-1, output_steps, 1)\n",
    "\n",
    "print(\"Shape của X_seq:\", X_seq.shape)\n",
    "print(\"Shape của y_seq:\", y_seq.shape)\n"
   ]
  },
  {
   "cell_type": "code",
   "execution_count": 6,
   "metadata": {},
   "outputs": [
    {
     "name": "stdout",
     "output_type": "stream",
     "text": [
      "Số mẫu Train: 460368\n",
      "Số mẫu Validation: 98651\n",
      "Số mẫu Test: 98651\n"
     ]
    }
   ],
   "source": [
    "num_samples = X_seq.shape[0]\n",
    "train_end = int(num_samples * 0.7)\n",
    "val_end = int(num_samples * 0.85)\n",
    "\n",
    "X_train = X_seq[:train_end]\n",
    "y_train = y_seq[:train_end]\n",
    "X_val = X_seq[train_end:val_end]\n",
    "y_val = y_seq[train_end:val_end]\n",
    "X_test = X_seq[val_end:]\n",
    "y_test = y_seq[val_end:]\n",
    "\n",
    "print(\"Số mẫu Train:\", X_train.shape[0])\n",
    "print(\"Số mẫu Validation:\", X_val.shape[0])\n",
    "print(\"Số mẫu Test:\", X_test.shape[0])\n"
   ]
  },
  {
   "cell_type": "code",
   "execution_count": 7,
   "metadata": {},
   "outputs": [
    {
     "name": "stderr",
     "output_type": "stream",
     "text": [
      "c:\\Users\\giakh\\miniconda3\\envs\\ai_train\\Lib\\site-packages\\keras\\src\\layers\\rnn\\rnn.py:200: UserWarning: Do not pass an `input_shape`/`input_dim` argument to a layer. When using Sequential models, prefer using an `Input(shape)` object as the first layer in the model instead.\n",
      "  super().__init__(**kwargs)\n"
     ]
    },
    {
     "data": {
      "text/html": [
       "<pre style=\"white-space:pre;overflow-x:auto;line-height:normal;font-family:Menlo,'DejaVu Sans Mono',consolas,'Courier New',monospace\"><span style=\"font-weight: bold\">Model: \"sequential\"</span>\n",
       "</pre>\n"
      ],
      "text/plain": [
       "\u001b[1mModel: \"sequential\"\u001b[0m\n"
      ]
     },
     "metadata": {},
     "output_type": "display_data"
    },
    {
     "data": {
      "text/html": [
       "<pre style=\"white-space:pre;overflow-x:auto;line-height:normal;font-family:Menlo,'DejaVu Sans Mono',consolas,'Courier New',monospace\">┏━━━━━━━━━━━━━━━━━━━━━━━━━━━━━━━━━┳━━━━━━━━━━━━━━━━━━━━━━━━┳━━━━━━━━━━━━━━━┓\n",
       "┃<span style=\"font-weight: bold\"> Layer (type)                    </span>┃<span style=\"font-weight: bold\"> Output Shape           </span>┃<span style=\"font-weight: bold\">       Param # </span>┃\n",
       "┡━━━━━━━━━━━━━━━━━━━━━━━━━━━━━━━━━╇━━━━━━━━━━━━━━━━━━━━━━━━╇━━━━━━━━━━━━━━━┩\n",
       "│ lstm (<span style=\"color: #0087ff; text-decoration-color: #0087ff\">LSTM</span>)                     │ (<span style=\"color: #00d7ff; text-decoration-color: #00d7ff\">None</span>, <span style=\"color: #00af00; text-decoration-color: #00af00\">6</span>, <span style=\"color: #00af00; text-decoration-color: #00af00\">50</span>)          │        <span style=\"color: #00af00; text-decoration-color: #00af00\">10,400</span> │\n",
       "├─────────────────────────────────┼────────────────────────┼───────────────┤\n",
       "│ lstm_1 (<span style=\"color: #0087ff; text-decoration-color: #0087ff\">LSTM</span>)                   │ (<span style=\"color: #00d7ff; text-decoration-color: #00d7ff\">None</span>, <span style=\"color: #00af00; text-decoration-color: #00af00\">6</span>, <span style=\"color: #00af00; text-decoration-color: #00af00\">50</span>)          │        <span style=\"color: #00af00; text-decoration-color: #00af00\">20,200</span> │\n",
       "├─────────────────────────────────┼────────────────────────┼───────────────┤\n",
       "│ time_distributed                │ (<span style=\"color: #00d7ff; text-decoration-color: #00d7ff\">None</span>, <span style=\"color: #00af00; text-decoration-color: #00af00\">6</span>, <span style=\"color: #00af00; text-decoration-color: #00af00\">1</span>)           │            <span style=\"color: #00af00; text-decoration-color: #00af00\">51</span> │\n",
       "│ (<span style=\"color: #0087ff; text-decoration-color: #0087ff\">TimeDistributed</span>)               │                        │               │\n",
       "└─────────────────────────────────┴────────────────────────┴───────────────┘\n",
       "</pre>\n"
      ],
      "text/plain": [
       "┏━━━━━━━━━━━━━━━━━━━━━━━━━━━━━━━━━┳━━━━━━━━━━━━━━━━━━━━━━━━┳━━━━━━━━━━━━━━━┓\n",
       "┃\u001b[1m \u001b[0m\u001b[1mLayer (type)                   \u001b[0m\u001b[1m \u001b[0m┃\u001b[1m \u001b[0m\u001b[1mOutput Shape          \u001b[0m\u001b[1m \u001b[0m┃\u001b[1m \u001b[0m\u001b[1m      Param #\u001b[0m\u001b[1m \u001b[0m┃\n",
       "┡━━━━━━━━━━━━━━━━━━━━━━━━━━━━━━━━━╇━━━━━━━━━━━━━━━━━━━━━━━━╇━━━━━━━━━━━━━━━┩\n",
       "│ lstm (\u001b[38;5;33mLSTM\u001b[0m)                     │ (\u001b[38;5;45mNone\u001b[0m, \u001b[38;5;34m6\u001b[0m, \u001b[38;5;34m50\u001b[0m)          │        \u001b[38;5;34m10,400\u001b[0m │\n",
       "├─────────────────────────────────┼────────────────────────┼───────────────┤\n",
       "│ lstm_1 (\u001b[38;5;33mLSTM\u001b[0m)                   │ (\u001b[38;5;45mNone\u001b[0m, \u001b[38;5;34m6\u001b[0m, \u001b[38;5;34m50\u001b[0m)          │        \u001b[38;5;34m20,200\u001b[0m │\n",
       "├─────────────────────────────────┼────────────────────────┼───────────────┤\n",
       "│ time_distributed                │ (\u001b[38;5;45mNone\u001b[0m, \u001b[38;5;34m6\u001b[0m, \u001b[38;5;34m1\u001b[0m)           │            \u001b[38;5;34m51\u001b[0m │\n",
       "│ (\u001b[38;5;33mTimeDistributed\u001b[0m)               │                        │               │\n",
       "└─────────────────────────────────┴────────────────────────┴───────────────┘\n"
      ]
     },
     "metadata": {},
     "output_type": "display_data"
    },
    {
     "data": {
      "text/html": [
       "<pre style=\"white-space:pre;overflow-x:auto;line-height:normal;font-family:Menlo,'DejaVu Sans Mono',consolas,'Courier New',monospace\"><span style=\"font-weight: bold\"> Total params: </span><span style=\"color: #00af00; text-decoration-color: #00af00\">30,651</span> (119.73 KB)\n",
       "</pre>\n"
      ],
      "text/plain": [
       "\u001b[1m Total params: \u001b[0m\u001b[38;5;34m30,651\u001b[0m (119.73 KB)\n"
      ]
     },
     "metadata": {},
     "output_type": "display_data"
    },
    {
     "data": {
      "text/html": [
       "<pre style=\"white-space:pre;overflow-x:auto;line-height:normal;font-family:Menlo,'DejaVu Sans Mono',consolas,'Courier New',monospace\"><span style=\"font-weight: bold\"> Trainable params: </span><span style=\"color: #00af00; text-decoration-color: #00af00\">30,651</span> (119.73 KB)\n",
       "</pre>\n"
      ],
      "text/plain": [
       "\u001b[1m Trainable params: \u001b[0m\u001b[38;5;34m30,651\u001b[0m (119.73 KB)\n"
      ]
     },
     "metadata": {},
     "output_type": "display_data"
    },
    {
     "data": {
      "text/html": [
       "<pre style=\"white-space:pre;overflow-x:auto;line-height:normal;font-family:Menlo,'DejaVu Sans Mono',consolas,'Courier New',monospace\"><span style=\"font-weight: bold\"> Non-trainable params: </span><span style=\"color: #00af00; text-decoration-color: #00af00\">0</span> (0.00 B)\n",
       "</pre>\n"
      ],
      "text/plain": [
       "\u001b[1m Non-trainable params: \u001b[0m\u001b[38;5;34m0\u001b[0m (0.00 B)\n"
      ]
     },
     "metadata": {},
     "output_type": "display_data"
    }
   ],
   "source": [
    "model = Sequential()\n",
    "model.add(LSTM(50, activation='tanh', return_sequences=True, input_shape=(input_steps, 1)))\n",
    "model.add(LSTM(50, activation='tanh', return_sequences=True))\n",
    "model.add(TimeDistributed(Dense(1)))  # Dự báo cho mỗi bước thời gian của chuỗi output\n",
    "\n",
    "model.compile(optimizer='adam', loss='mse')\n",
    "model.summary()\n"
   ]
  },
  {
   "cell_type": "code",
   "execution_count": 8,
   "metadata": {},
   "outputs": [
    {
     "name": "stdout",
     "output_type": "stream",
     "text": [
      "Epoch 1/50\n",
      "\u001b[1m28773/28773\u001b[0m \u001b[32m━━━━━━━━━━━━━━━━━━━━\u001b[0m\u001b[37m\u001b[0m \u001b[1m180s\u001b[0m 6ms/step - loss: 1.8955e-04 - val_loss: 5.2661e-04\n",
      "Epoch 2/50\n",
      "\u001b[1m28773/28773\u001b[0m \u001b[32m━━━━━━━━━━━━━━━━━━━━\u001b[0m\u001b[37m\u001b[0m \u001b[1m164s\u001b[0m 6ms/step - loss: 1.8851e-04 - val_loss: 5.2566e-04\n",
      "Epoch 3/50\n",
      "\u001b[1m28773/28773\u001b[0m \u001b[32m━━━━━━━━━━━━━━━━━━━━\u001b[0m\u001b[37m\u001b[0m \u001b[1m151s\u001b[0m 5ms/step - loss: 1.8835e-04 - val_loss: 5.2366e-04\n",
      "Epoch 4/50\n",
      "\u001b[1m28773/28773\u001b[0m \u001b[32m━━━━━━━━━━━━━━━━━━━━\u001b[0m\u001b[37m\u001b[0m \u001b[1m150s\u001b[0m 5ms/step - loss: 1.8823e-04 - val_loss: 5.2230e-04\n",
      "Epoch 5/50\n",
      "\u001b[1m28773/28773\u001b[0m \u001b[32m━━━━━━━━━━━━━━━━━━━━\u001b[0m\u001b[37m\u001b[0m \u001b[1m138s\u001b[0m 5ms/step - loss: 1.8813e-04 - val_loss: 5.2120e-04\n",
      "Epoch 6/50\n",
      "\u001b[1m28773/28773\u001b[0m \u001b[32m━━━━━━━━━━━━━━━━━━━━\u001b[0m\u001b[37m\u001b[0m \u001b[1m142s\u001b[0m 5ms/step - loss: 1.8806e-04 - val_loss: 5.2045e-04\n",
      "Epoch 7/50\n",
      "\u001b[1m28773/28773\u001b[0m \u001b[32m━━━━━━━━━━━━━━━━━━━━\u001b[0m\u001b[37m\u001b[0m \u001b[1m136s\u001b[0m 5ms/step - loss: 1.8802e-04 - val_loss: 5.1994e-04\n",
      "Epoch 8/50\n",
      "\u001b[1m28773/28773\u001b[0m \u001b[32m━━━━━━━━━━━━━━━━━━━━\u001b[0m\u001b[37m\u001b[0m \u001b[1m166s\u001b[0m 6ms/step - loss: 1.8799e-04 - val_loss: 5.1961e-04\n",
      "Epoch 9/50\n",
      "\u001b[1m28773/28773\u001b[0m \u001b[32m━━━━━━━━━━━━━━━━━━━━\u001b[0m\u001b[37m\u001b[0m \u001b[1m166s\u001b[0m 6ms/step - loss: 1.8797e-04 - val_loss: 5.1937e-04\n",
      "Epoch 10/50\n",
      "\u001b[1m28773/28773\u001b[0m \u001b[32m━━━━━━━━━━━━━━━━━━━━\u001b[0m\u001b[37m\u001b[0m \u001b[1m159s\u001b[0m 6ms/step - loss: 1.8796e-04 - val_loss: 5.1917e-04\n",
      "Epoch 11/50\n",
      "\u001b[1m28773/28773\u001b[0m \u001b[32m━━━━━━━━━━━━━━━━━━━━\u001b[0m\u001b[37m\u001b[0m \u001b[1m159s\u001b[0m 6ms/step - loss: 1.8795e-04 - val_loss: 5.1899e-04\n",
      "Epoch 12/50\n",
      "\u001b[1m28773/28773\u001b[0m \u001b[32m━━━━━━━━━━━━━━━━━━━━\u001b[0m\u001b[37m\u001b[0m \u001b[1m162s\u001b[0m 6ms/step - loss: 1.8793e-04 - val_loss: 5.1883e-04\n",
      "Epoch 13/50\n",
      "\u001b[1m28773/28773\u001b[0m \u001b[32m━━━━━━━━━━━━━━━━━━━━\u001b[0m\u001b[37m\u001b[0m \u001b[1m162s\u001b[0m 6ms/step - loss: 1.8792e-04 - val_loss: 5.1870e-04\n",
      "Epoch 14/50\n",
      "\u001b[1m28773/28773\u001b[0m \u001b[32m━━━━━━━━━━━━━━━━━━━━\u001b[0m\u001b[37m\u001b[0m \u001b[1m163s\u001b[0m 6ms/step - loss: 1.8791e-04 - val_loss: 5.1861e-04\n",
      "Epoch 15/50\n",
      "\u001b[1m28773/28773\u001b[0m \u001b[32m━━━━━━━━━━━━━━━━━━━━\u001b[0m\u001b[37m\u001b[0m \u001b[1m162s\u001b[0m 6ms/step - loss: 1.8790e-04 - val_loss: 5.1853e-04\n",
      "Epoch 16/50\n",
      "\u001b[1m28773/28773\u001b[0m \u001b[32m━━━━━━━━━━━━━━━━━━━━\u001b[0m\u001b[37m\u001b[0m \u001b[1m168s\u001b[0m 6ms/step - loss: 1.8790e-04 - val_loss: 5.1848e-04\n",
      "Epoch 17/50\n",
      "\u001b[1m28773/28773\u001b[0m \u001b[32m━━━━━━━━━━━━━━━━━━━━\u001b[0m\u001b[37m\u001b[0m \u001b[1m164s\u001b[0m 6ms/step - loss: 1.8789e-04 - val_loss: 5.1847e-04\n",
      "Epoch 18/50\n",
      "\u001b[1m28773/28773\u001b[0m \u001b[32m━━━━━━━━━━━━━━━━━━━━\u001b[0m\u001b[37m\u001b[0m \u001b[1m171s\u001b[0m 6ms/step - loss: 1.8788e-04 - val_loss: 5.1850e-04\n",
      "Epoch 19/50\n",
      "\u001b[1m28773/28773\u001b[0m \u001b[32m━━━━━━━━━━━━━━━━━━━━\u001b[0m\u001b[37m\u001b[0m \u001b[1m168s\u001b[0m 6ms/step - loss: 1.8787e-04 - val_loss: 5.1856e-04\n",
      "Epoch 20/50\n",
      "\u001b[1m28773/28773\u001b[0m \u001b[32m━━━━━━━━━━━━━━━━━━━━\u001b[0m\u001b[37m\u001b[0m \u001b[1m154s\u001b[0m 5ms/step - loss: 1.8787e-04 - val_loss: 5.1864e-04\n",
      "Epoch 21/50\n",
      "\u001b[1m28773/28773\u001b[0m \u001b[32m━━━━━━━━━━━━━━━━━━━━\u001b[0m\u001b[37m\u001b[0m \u001b[1m166s\u001b[0m 6ms/step - loss: 1.8786e-04 - val_loss: 5.1873e-04\n",
      "Epoch 22/50\n",
      "\u001b[1m28773/28773\u001b[0m \u001b[32m━━━━━━━━━━━━━━━━━━━━\u001b[0m\u001b[37m\u001b[0m \u001b[1m163s\u001b[0m 6ms/step - loss: 1.8786e-04 - val_loss: 5.1882e-04\n"
     ]
    }
   ],
   "source": [
    "early_stop = EarlyStopping(monitor='val_loss', patience=5, restore_best_weights=True)\n",
    "\n",
    "history = model.fit(X_train, y_train, \n",
    "                    epochs=50, \n",
    "                    batch_size=16, \n",
    "                    validation_data=(X_val, y_val), \n",
    "                    callbacks=[early_stop])\n"
   ]
  },
  {
   "cell_type": "code",
   "execution_count": 12,
   "metadata": {},
   "outputs": [
    {
     "name": "stdout",
     "output_type": "stream",
     "text": [
      "MSE cho giờ thứ 1: 0.0008430852055592896\n",
      "MSE cho giờ thứ 2: 0.0008327191612362583\n",
      "MSE cho giờ thứ 3: 0.0008244114634880618\n",
      "MSE cho giờ thứ 4: 0.0008170641206140094\n",
      "MSE cho giờ thứ 5: 0.0008110130964416944\n",
      "MSE cho giờ thứ 6: 0.0008053482362946081\n",
      "MSE trung bình cho 6 giờ: 0.0008222735472723203\n"
     ]
    }
   ],
   "source": [
    "import numpy as np\n",
    "from sklearn.metrics import mean_squared_error\n",
    "\n",
    "# Giả sử y_test và y_pred có shape (N, 6, 1)\n",
    "num_steps = y_test.shape[1]  # 6\n",
    "mse_list = []\n",
    "\n",
    "for i in range(num_steps):\n",
    "    # Lấy dữ liệu tại bước thời gian i\n",
    "    y_test_i = y_test[:, i, 0]\n",
    "    y_pred_i = y_pred[:, i, 0]\n",
    "    # Tính MSE riêng cho bước i\n",
    "    mse_i = mean_squared_error(y_test_i, y_pred_i)\n",
    "    mse_list.append(mse_i)\n",
    "    print(f\"MSE cho giờ thứ {i+1}: {mse_i}\")\n",
    "\n",
    "# Tính trung bình MSE của 6 giờ\n",
    "avg_mse = np.mean(mse_list)\n",
    "print(\"MSE trung bình cho 6 giờ:\", avg_mse)\n"
   ]
  },
  {
   "cell_type": "code",
   "execution_count": 13,
   "metadata": {},
   "outputs": [
    {
     "data": {
      "image/png": "[encoded data removed]",
      "text/plain": [
       "<Figure size 1200x600 with 1 Axes>"
      ]
     },
     "metadata": {},
     "output_type": "display_data"
    }
   ],
   "source": [
    "# Chọn một mẫu ngẫu nhiên từ tập test\n",
    "sample_index = np.random.randint(0, X_test.shape[0])\n",
    "input_sequence = X_test[sample_index].flatten()\n",
    "ground_truth = y_test[sample_index].flatten()\n",
    "prediction = y_pred[sample_index].flatten()\n",
    "\n",
    "plt.figure(figsize=(12,6))\n",
    "# Vẽ chuỗi input (6 giờ trước) – đặt ở các thời điểm 0-5\n",
    "plt.plot(range(0, input_steps), input_sequence, marker='o', label='Input (6h trước)')\n",
    "# Vẽ chuỗi ground truth (6 giờ sau) – đặt ở các thời điểm 6-11\n",
    "plt.plot(range(input_steps, input_steps+output_steps), ground_truth, marker='o', label='Ground Truth (6h sau)')\n",
    "# Vẽ chuỗi dự báo\n",
    "plt.plot(range(input_steps, input_steps+output_steps), prediction, marker='o', label='Prediction (6h sau)')\n",
    "plt.xlabel(\"Thời gian (giờ)\")\n",
    "plt.ylabel(\"Lượng mưa (đã chuẩn hóa)\")\n",
    "plt.title(\"Dự báo lượng mưa: Input 6h và dự báo 6h sau\")\n",
    "plt.legend()\n",
    "plt.show()\n"
   ]
  },
  {
   "cell_type": "code",
   "execution_count": 11,
   "metadata": {},
   "outputs": [
    {
     "data": {
      "image/png": "[encoded data removed]",
      "text/plain": [
       "<Figure size 800x500 with 1 Axes>"
      ]
     },
     "metadata": {},
     "output_type": "display_data"
    }
   ],
   "source": [
    "plt.figure(figsize=(8,5))\n",
    "plt.plot(history.history['loss'], label='Train Loss')\n",
    "plt.plot(history.history['val_loss'], label='Validation Loss')\n",
    "plt.xlabel(\"Epochs\")\n",
    "plt.ylabel(\"Loss (MSE)\")\n",
    "plt.title(\"Lịch sử huấn luyện\")\n",
    "plt.legend()\n",
    "plt.show()\n"
   ]
  }
 ],
 "metadata": {
  "kernelspec": {
   "display_name": "ai_train",
   "language": "python",
   "name": "python3"
  },
  "language_info": {
   "codemirror_mode": {
    "name": "ipython",
    "version": 3
   },
   "file_extension": ".py",
   "mimetype": "text/x-python",
   "name": "python",
   "nbconvert_exporter": "python",
   "pygments_lexer": "ipython3",
   "version": "3.12.9"
  }
 },
 "nbformat": 4,
 "nbformat_minor": 2
}
