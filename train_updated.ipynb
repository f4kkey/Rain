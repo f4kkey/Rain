{
 "cells": [
  {
   "cell_type": "markdown",
   "metadata": {},
   "source": [
    "# 1. Kiểm tra phiên bản các thư viện"
   ]
  },
  {
   "cell_type": "code",
   "execution_count": 6,
   "metadata": {},
   "outputs": [
    {
     "name": "stdout",
     "output_type": "stream",
     "text": [
      "NumPy: 2.2.4\n",
      "Pandas: 2.2.3\n",
      "Scikit-learn: 1.6.1\n"
     ]
    }
   ],
   "source": [
    "import numpy as np\n",
    "import pandas as pd\n",
    "import sklearn\n",
    "\n",
    "print(\"NumPy:\", np.__version__)\n",
    "print(\"Pandas:\", pd.__version__)\n",
    "print(\"Scikit-learn:\", sklearn.__version__)\n"
   ]
  },
  {
   "cell_type": "markdown",
   "metadata": {},
   "source": [
    "# 2. Huấn luyện mô hình\n",
    "- Sử dụng model Random Forest\n",
    "- Dự báo lượng mưa trong 6 giờ tới. Sử dụng dữ liệu của 6 tiếng trước"
   ]
  },
  {
   "cell_type": "code",
   "execution_count": 7,
   "metadata": {},
   "outputs": [
    {
     "data": {
      "text/html": [
       "<div>\n",
       "<style scoped>\n",
       "    .dataframe tbody tr th:only-of-type {\n",
       "        vertical-align: middle;\n",
       "    }\n",
       "\n",
       "    .dataframe tbody tr th {\n",
       "        vertical-align: top;\n",
       "    }\n",
       "\n",
       "    .dataframe thead th {\n",
       "        text-align: right;\n",
       "    }\n",
       "</style>\n",
       "<table border=\"1\" class=\"dataframe\">\n",
       "  <thead>\n",
       "    <tr style=\"text-align: right;\">\n",
       "      <th></th>\n",
       "      <th>i</th>\n",
       "      <th>j</th>\n",
       "      <th>AWS</th>\n",
       "      <th>CAPE</th>\n",
       "      <th>CIN</th>\n",
       "      <th>EWSS</th>\n",
       "      <th>IE</th>\n",
       "      <th>ISOR</th>\n",
       "      <th>KX</th>\n",
       "      <th>PEV</th>\n",
       "      <th>...</th>\n",
       "      <th>SLHF</th>\n",
       "      <th>SLOR</th>\n",
       "      <th>SSHF</th>\n",
       "      <th>TCLW</th>\n",
       "      <th>TCW</th>\n",
       "      <th>TCWV</th>\n",
       "      <th>U250</th>\n",
       "      <th>U850</th>\n",
       "      <th>V250</th>\n",
       "      <th>V850</th>\n",
       "    </tr>\n",
       "  </thead>\n",
       "  <tbody>\n",
       "    <tr>\n",
       "      <th>0</th>\n",
       "      <td>0</td>\n",
       "      <td>114</td>\n",
       "      <td>0.0</td>\n",
       "      <td>446.125</td>\n",
       "      <td>38.875008</td>\n",
       "      <td>-641.113281</td>\n",
       "      <td>-0.000014</td>\n",
       "      <td>0.588248</td>\n",
       "      <td>37.360176</td>\n",
       "      <td>-0.000016</td>\n",
       "      <td>...</td>\n",
       "      <td>-127783</td>\n",
       "      <td>0.019673</td>\n",
       "      <td>-11962</td>\n",
       "      <td>0.723206</td>\n",
       "      <td>49.239563</td>\n",
       "      <td>48.219376</td>\n",
       "      <td>25.793488</td>\n",
       "      <td>-3.606674</td>\n",
       "      <td>4.523453</td>\n",
       "      <td>7.328094</td>\n",
       "    </tr>\n",
       "    <tr>\n",
       "      <th>1</th>\n",
       "      <td>0</td>\n",
       "      <td>116</td>\n",
       "      <td>0.0</td>\n",
       "      <td>624.125</td>\n",
       "      <td>79.875008</td>\n",
       "      <td>-468.113281</td>\n",
       "      <td>-0.000026</td>\n",
       "      <td>0.315002</td>\n",
       "      <td>35.903145</td>\n",
       "      <td>-0.000026</td>\n",
       "      <td>...</td>\n",
       "      <td>-207399</td>\n",
       "      <td>0.008039</td>\n",
       "      <td>28742</td>\n",
       "      <td>0.581421</td>\n",
       "      <td>48.919250</td>\n",
       "      <td>48.055313</td>\n",
       "      <td>28.781769</td>\n",
       "      <td>-2.479721</td>\n",
       "      <td>4.257828</td>\n",
       "      <td>7.910126</td>\n",
       "    </tr>\n",
       "    <tr>\n",
       "      <th>2</th>\n",
       "      <td>0</td>\n",
       "      <td>118</td>\n",
       "      <td>0.0</td>\n",
       "      <td>624.125</td>\n",
       "      <td>79.875008</td>\n",
       "      <td>-468.113281</td>\n",
       "      <td>-0.000026</td>\n",
       "      <td>0.315002</td>\n",
       "      <td>35.903145</td>\n",
       "      <td>-0.000026</td>\n",
       "      <td>...</td>\n",
       "      <td>-207399</td>\n",
       "      <td>0.008039</td>\n",
       "      <td>28742</td>\n",
       "      <td>0.581421</td>\n",
       "      <td>48.919250</td>\n",
       "      <td>48.055313</td>\n",
       "      <td>28.781769</td>\n",
       "      <td>-2.479721</td>\n",
       "      <td>4.257828</td>\n",
       "      <td>7.910126</td>\n",
       "    </tr>\n",
       "    <tr>\n",
       "      <th>3</th>\n",
       "      <td>0</td>\n",
       "      <td>119</td>\n",
       "      <td>0.0</td>\n",
       "      <td>624.125</td>\n",
       "      <td>79.875008</td>\n",
       "      <td>-468.113281</td>\n",
       "      <td>-0.000026</td>\n",
       "      <td>0.315002</td>\n",
       "      <td>35.903145</td>\n",
       "      <td>-0.000026</td>\n",
       "      <td>...</td>\n",
       "      <td>-207399</td>\n",
       "      <td>0.008039</td>\n",
       "      <td>28742</td>\n",
       "      <td>0.581421</td>\n",
       "      <td>48.919250</td>\n",
       "      <td>48.055313</td>\n",
       "      <td>28.781769</td>\n",
       "      <td>-2.479721</td>\n",
       "      <td>4.257828</td>\n",
       "      <td>7.910126</td>\n",
       "    </tr>\n",
       "    <tr>\n",
       "      <th>4</th>\n",
       "      <td>0</td>\n",
       "      <td>122</td>\n",
       "      <td>0.0</td>\n",
       "      <td>646.875</td>\n",
       "      <td>129.296875</td>\n",
       "      <td>-445.113281</td>\n",
       "      <td>-0.000030</td>\n",
       "      <td>0.407749</td>\n",
       "      <td>33.662910</td>\n",
       "      <td>-0.000039</td>\n",
       "      <td>...</td>\n",
       "      <td>-207719</td>\n",
       "      <td>0.002134</td>\n",
       "      <td>29126</td>\n",
       "      <td>0.420837</td>\n",
       "      <td>46.876282</td>\n",
       "      <td>46.242813</td>\n",
       "      <td>31.621613</td>\n",
       "      <td>0.049576</td>\n",
       "      <td>4.226578</td>\n",
       "      <td>7.316376</td>\n",
       "    </tr>\n",
       "  </tbody>\n",
       "</table>\n",
       "<p>5 rows × 23 columns</p>\n",
       "</div>"
      ],
      "text/plain": [
       "   i    j  AWS     CAPE         CIN        EWSS        IE      ISOR  \\\n",
       "0  0  114  0.0  446.125   38.875008 -641.113281 -0.000014  0.588248   \n",
       "1  0  116  0.0  624.125   79.875008 -468.113281 -0.000026  0.315002   \n",
       "2  0  118  0.0  624.125   79.875008 -468.113281 -0.000026  0.315002   \n",
       "3  0  119  0.0  624.125   79.875008 -468.113281 -0.000026  0.315002   \n",
       "4  0  122  0.0  646.875  129.296875 -445.113281 -0.000030  0.407749   \n",
       "\n",
       "          KX       PEV  ...    SLHF      SLOR   SSHF      TCLW        TCW  \\\n",
       "0  37.360176 -0.000016  ... -127783  0.019673 -11962  0.723206  49.239563   \n",
       "1  35.903145 -0.000026  ... -207399  0.008039  28742  0.581421  48.919250   \n",
       "2  35.903145 -0.000026  ... -207399  0.008039  28742  0.581421  48.919250   \n",
       "3  35.903145 -0.000026  ... -207399  0.008039  28742  0.581421  48.919250   \n",
       "4  33.662910 -0.000039  ... -207719  0.002134  29126  0.420837  46.876282   \n",
       "\n",
       "        TCWV       U250      U850      V250      V850  \n",
       "0  48.219376  25.793488 -3.606674  4.523453  7.328094  \n",
       "1  48.055313  28.781769 -2.479721  4.257828  7.910126  \n",
       "2  48.055313  28.781769 -2.479721  4.257828  7.910126  \n",
       "3  48.055313  28.781769 -2.479721  4.257828  7.910126  \n",
       "4  46.242813  31.621613  0.049576  4.226578  7.316376  \n",
       "\n",
       "[5 rows x 23 columns]"
      ]
     },
     "execution_count": 7,
     "metadata": {},
     "output_type": "execute_result"
    }
   ],
   "source": [
    "import pandas as pd\n",
    "import numpy as np\n",
    "from sklearn.model_selection import train_test_split\n",
    "from sklearn.ensemble import RandomForestRegressor\n",
    "from sklearn.metrics import mean_absolute_error, mean_squared_error, r2_score\n",
    "import math\n",
    "\n",
    "\n",
    "file_path = \"./data.xlsx\"\n",
    "df = pd.read_excel(file_path)\n",
    "\n",
    "df.head()"
   ]
  },
  {
   "cell_type": "markdown",
   "metadata": {},
   "source": [
    "# 3. Đánh giá\n",
    "- Tạo dữ liệu đầu vào với thông tin của 6 giờ trước\n",
    "- Tạo cột thời gian giả định để xử lý dữ liệu dạng chuỗi thời gian\n",
    "- Tạo các cột đầu vào từ 6 giừo trước\n",
    "- Xoá các dòng có giá trị NaN\n",
    "- Chia dữ liệu thàn tập train và test\n",
    "- Khởi tạo model RandomForest\n",
    "- Dự đoán trên tập test\n",
    "- Đánh giá\n"
   ]
  },
  {
   "cell_type": "code",
   "execution_count": 8,
   "metadata": {},
   "outputs": [
    {
     "name": "stdout",
     "output_type": "stream",
     "text": [
      "MAE: 0.10298412816439356, RMSE: 0.442762792882309, R2: -5.265447005080071\n"
     ]
    }
   ],
   "source": [
    "time_steps = 6\n",
    "\n",
    "df['time'] = np.arange(len(df))\n",
    "\n",
    "for t in range(1, time_steps + 1):\n",
    "    df[f'AWS_t-{t}'] = df['AWS'].shift(t)\n",
    "\n",
    "# Xóa các dòng có giá trị NaN\n",
    "df.dropna(inplace=True)\n",
    "\n",
    "features = [col for col in df.columns if col not in ['AWS', 'i', 'j', 'time']]\n",
    "target = 'AWS'\n",
    "\n",
    "X_train, X_test, y_train, y_test = train_test_split(df[features], df[target], test_size=0.2, random_state=42)\n",
    "\n",
    "rf_model = RandomForestRegressor(n_estimators=100, max_depth=10, random_state=42)\n",
    "rf_model.fit(X_train, y_train)\n",
    "\n",
    "y_pred = rf_model.predict(X_test)\n",
    "\n",
    "# Đánh giá mô hình\n",
    "mae = mean_absolute_error(y_test, y_pred)\n",
    "rmse = math.sqrt(mean_squared_error(y_test, y_pred))\n",
    "r2 = r2_score(y_test, y_pred)\n",
    "\n",
    "mae, rmse, r2\n",
    "print(f\"MAE: {mae}, RMSE: {rmse}, R2: {r2}\")\n"
   ]
  },
  {
   "cell_type": "code",
   "execution_count": 9,
   "id": "bd52c4ed",
   "metadata": {},
   "outputs": [
    {
     "name": "stdout",
     "output_type": "stream",
     "text": [
      "MAE: 0.11, MSE: 0.18, RMSE: 0.43\n"
     ]
    }
   ],
   "source": [
    "import numpy as np\n",
    "from sklearn.metrics import mean_absolute_error, mean_squared_error\n",
    "\n",
    "# Tạo nhãn cho 6 giờ tiếp theo\n",
    "df[\"AWS_6h\"] = df[\"AWS\"].shift(-6)\n",
    "\n",
    "# Loại bỏ các dòng bị NaN (do dịch 6 giờ)\n",
    "df.dropna(inplace=True)\n",
    "\n",
    "# Loại bỏ các cột không cần thiết (i, j) sau khi đã xử lý NaN\n",
    "X = df.drop(columns=[\"i\", \"j\", \"AWS\", \"AWS_6h\"])\n",
    "y = df[\"AWS_6h\"]\n",
    "\n",
    "# Chia tập train-test\n",
    "X_train, X_test, y_train, y_test = train_test_split(X, y, test_size=0.2, random_state=42)\n",
    "\n",
    "# Huấn luyện mô hình RandomForest\n",
    "model = RandomForestRegressor(n_estimators=100, max_depth=10, random_state=42)\n",
    "model.fit(X_train, y_train)\n",
    "\n",
    "# Dự đoán trên tập test\n",
    "y_pred = model.predict(X_test)\n",
    "\n",
    "# Đánh giá mô hình\n",
    "mae = mean_absolute_error(y_test, y_pred)\n",
    "mse = mean_squared_error(y_test, y_pred)\n",
    "rmse = np.sqrt(mse)\n",
    "\n",
    "print(f\"MAE: {mae:.2f}, MSE: {mse:.2f}, RMSE: {rmse:.2f}\")\n"
   ]
  },
  {
   "cell_type": "code",
   "execution_count": 10,
   "id": "75b9e7ea",
   "metadata": {},
   "outputs": [
    {
     "data": {
      "image/png": "[encoded data removed]",
      "text/plain": [
       "<Figure size 1200x600 with 1 Axes>"
      ]
     },
     "metadata": {},
     "output_type": "display_data"
    }
   ],
   "source": [
    "import matplotlib.pyplot as plt\n",
    "num_samples = 50\n",
    "y_actual = y_test[:num_samples].values\n",
    "y_predicted = y_pred[:num_samples]\n",
    "\n",
    "plt.figure(figsize=(12, 6))\n",
    "plt.plot(y_actual, label=\"Actual Rainfall\", marker='o')\n",
    "plt.plot(y_predicted, label=\"Predicted Rainfall\", marker='x')\n",
    "plt.xlabel(\"Sample Index\")\n",
    "plt.ylabel(\"Rainfall (mm)\")\n",
    "plt.title(\"Actual vs Predicted Rainfall for Next 6 Hours\")\n",
    "plt.legend()\n",
    "plt.grid()\n",
    "plt.show()\n"
   ]
  },
  {
   "cell_type": "markdown",
   "metadata": {},
   "source": [
    "# 4. Các mô hình khác\n"
   ]
  },
  {
   "cell_type": "markdown",
   "metadata": {},
   "source": [
    "## 1. RandomForest/ XGBoost"
   ]
  },
  {
   "cell_type": "code",
   "execution_count": 13,
   "metadata": {},
   "outputs": [
    {
     "name": "stdout",
     "output_type": "stream",
     "text": [
      "Random Forest RMSE: 0.5606773956642446\n",
      "XGBoost RMSE: 0.5709500115837635\n"
     ]
    }
   ],
   "source": [
    "import pandas as pd\n",
    "import numpy as np\n",
    "from sklearn.model_selection import train_test_split\n",
    "from sklearn.ensemble import RandomForestRegressor\n",
    "from xgboost import XGBRegressor\n",
    "from sklearn.metrics import mean_squared_error, r2_score\n",
    "\n",
    "# Load dữ liệu\n",
    "df = pd.read_excel(\"data.xlsx\")\n",
    "\n",
    "# Xóa các cột không cần thiết\n",
    "df = df.drop(columns=[\"i\", \"j\"])  \n",
    "\n",
    "# Chia dữ liệu thành input (X) và output (y)\n",
    "X = df.drop(columns=[\"AWS\"])  # Các feature\n",
    "y = df[\"AWS\"]  # Nhãn\n",
    "\n",
    "# Chia thành tập train/test\n",
    "X_train, X_test, y_train, y_test = train_test_split(X, y, test_size=0.2, random_state=42)\n",
    "\n",
    "# Huấn luyện mô hình Random Forest\n",
    "rf_model = RandomForestRegressor(n_estimators=100, max_depth=10, random_state=42)\n",
    "rf_model.fit(X_train, y_train)\n",
    "\n",
    "# Huấn luyện mô hình XGBoost\n",
    "xgb_model = XGBRegressor(n_estimators=100, learning_rate=0.1, max_depth=6, random_state=42)\n",
    "xgb_model.fit(X_train, y_train)\n",
    "\n",
    "# Dự đoán\n",
    "rf_pred = rf_model.predict(X_test)\n",
    "xgb_pred = xgb_model.predict(X_test)\n",
    "\n",
    "# Đánh giá hiệu suất\n",
    "rf_mse = mean_squared_error(y_test, rf_pred)\n",
    "xgb_mse = mean_squared_error(y_test, xgb_pred)\n",
    "\n",
    "rf_rmse = np.sqrt(rf_mse)\n",
    "xgb_rmse = np.sqrt(xgb_mse)\n",
    "\n",
    "print(f\"Random Forest RMSE: {rf_rmse}\")\n",
    "print(f\"XGBoost RMSE: {xgb_rmse}\")\n"
   ]
  },
  {
   "cell_type": "markdown",
   "metadata": {},
   "source": [
    "## 2. Mô hình LSTM (Dự báo theo thời gian)"
   ]
  },
  {
   "cell_type": "code",
   "execution_count": 38,
   "metadata": {},
   "outputs": [],
   "source": [
    "import tensorflow as tf\n",
    "from tensorflow.keras.models import Sequential\n",
    "from tensorflow.keras.layers import LSTM, Dense, Dropout\n",
    "from tensorflow.keras.callbacks import EarlyStopping, ModelCheckpoint\n",
    "import numpy as np\n",
    "import pandas as pd\n",
    "from sklearn.preprocessing import MinMaxScaler\n",
    "import matplotlib.pyplot as plt\n",
    "from sklearn.metrics import mean_squared_error, mean_absolute_error, r2_score"
   ]
  },
  {
   "cell_type": "code",
   "execution_count": 39,
   "metadata": {},
   "outputs": [
    {
     "name": "stdout",
     "output_type": "stream",
     "text": [
      "Đã đọc dữ liệu\n"
     ]
    }
   ],
   "source": [
    "df = pd.read_excel(\"data.xlsx\")\n",
    "# df = df[df['AWS'].notna()]\n",
    "print(\"Đã đọc dữ liệu\")"
   ]
  },
  {
   "cell_type": "code",
   "execution_count": 40,
   "metadata": {},
   "outputs": [],
   "source": [
    "features = [\"AWS\"]\n",
    "scaler = MinMaxScaler()\n",
    "data_scaled = scaler.fit_transform(df[features])\n",
    "def create_sequences(data, time_steps):\n",
    "    X, y = [], []\n",
    "    for i in range(len(data) - time_steps):\n",
    "        X.append(data[i:i+time_steps])\n",
    "        y.append(data[i+time_steps])\n",
    "    return np.array(X), np.array(y)\n",
    "\n",
    "X, y = create_sequences(data_scaled, time_steps)"
   ]
  },
  {
   "cell_type": "code",
   "execution_count": 41,
   "metadata": {},
   "outputs": [],
   "source": [
    "#train 80%, test 20%\n",
    "train_size = int(len(X) * 0.8)\n",
    "X_train, X_test = X[:train_size], X[train_size:]\n",
    "y_train, y_test = y[:train_size], y[train_size:]"
   ]
  },
  {
   "cell_type": "code",
   "execution_count": 42,
   "metadata": {},
   "outputs": [
    {
     "name": "stderr",
     "output_type": "stream",
     "text": [
      "c:\\Users\\giakh\\miniconda3\\envs\\ai_train\\Lib\\site-packages\\keras\\src\\layers\\rnn\\rnn.py:200: UserWarning: Do not pass an `input_shape`/`input_dim` argument to a layer. When using Sequential models, prefer using an `Input(shape)` object as the first layer in the model instead.\n",
      "  super().__init__(**kwargs)\n"
     ]
    }
   ],
   "source": [
    "model = Sequential([\n",
    "    LSTM(64, activation='relu', return_sequences=True, input_shape=(time_steps, 1)),\n",
    "    Dropout(0.2),\n",
    "    LSTM(32, activation='relu'),\n",
    "    Dropout(0.2),\n",
    "    Dense(16, activation='relu'),\n",
    "    Dense(1)\n",
    "])\n",
    "model.compile(optimizer='adam', loss='mse')"
   ]
  },
  {
   "cell_type": "code",
   "execution_count": 43,
   "metadata": {},
   "outputs": [],
   "source": [
    "early_stop = EarlyStopping(monitor='val_loss', patience=10, restore_best_weights=True)\n",
    "checkpoint = ModelCheckpoint(\"best_model.h5\", monitor='val_loss', save_best_only=True)"
   ]
  },
  {
   "cell_type": "code",
   "execution_count": 44,
   "metadata": {},
   "outputs": [
    {
     "name": "stdout",
     "output_type": "stream",
     "text": [
      "Epoch 1/50\n",
      "\u001b[1m11/12\u001b[0m \u001b[32m━━━━━━━━━━━━━━━━━━\u001b[0m\u001b[37m━━\u001b[0m \u001b[1m0s\u001b[0m 11ms/step - loss: 0.0172"
     ]
    },
    {
     "name": "stderr",
     "output_type": "stream",
     "text": [
      "WARNING:absl:You are saving your model as an HDF5 file via `model.save()` or `keras.saving.save_model(model)`. This file format is considered legacy. We recommend using instead the native Keras format, e.g. `model.save('my_model.keras')` or `keras.saving.save_model(model, 'my_model.keras')`. \n"
     ]
    },
    {
     "name": "stdout",
     "output_type": "stream",
     "text": [
      "\u001b[1m12/12\u001b[0m \u001b[32m━━━━━━━━━━━━━━━━━━━━\u001b[0m\u001b[37m\u001b[0m \u001b[1m10s\u001b[0m 132ms/step - loss: 0.0155 - val_loss: 3.9072e-07\n",
      "Epoch 2/50\n",
      "\u001b[1m12/12\u001b[0m \u001b[32m━━━━━━━━━━━━━━━━━━━━\u001b[0m\u001b[37m\u001b[0m \u001b[1m0s\u001b[0m 26ms/step - loss: 0.0054 - val_loss: 1.0606e-04\n",
      "Epoch 3/50\n",
      "\u001b[1m12/12\u001b[0m \u001b[32m━━━━━━━━━━━━━━━━━━━━\u001b[0m\u001b[37m\u001b[0m \u001b[1m0s\u001b[0m 27ms/step - loss: 0.0083 - val_loss: 5.8520e-05\n",
      "Epoch 4/50\n",
      "\u001b[1m12/12\u001b[0m \u001b[32m━━━━━━━━━━━━━━━━━━━━\u001b[0m\u001b[37m\u001b[0m \u001b[1m0s\u001b[0m 26ms/step - loss: 0.0065 - val_loss: 1.9565e-05\n",
      "Epoch 5/50\n",
      "\u001b[1m12/12\u001b[0m \u001b[32m━━━━━━━━━━━━━━━━━━━━\u001b[0m\u001b[37m\u001b[0m \u001b[1m0s\u001b[0m 26ms/step - loss: 0.0055 - val_loss: 2.9787e-05\n",
      "Epoch 6/50\n",
      "\u001b[1m12/12\u001b[0m \u001b[32m━━━━━━━━━━━━━━━━━━━━\u001b[0m\u001b[37m\u001b[0m \u001b[1m0s\u001b[0m 26ms/step - loss: 0.0045 - val_loss: 7.8081e-05\n",
      "Epoch 7/50\n",
      "\u001b[1m12/12\u001b[0m \u001b[32m━━━━━━━━━━━━━━━━━━━━\u001b[0m\u001b[37m\u001b[0m \u001b[1m0s\u001b[0m 27ms/step - loss: 0.0027 - val_loss: 6.1788e-05\n",
      "Epoch 8/50\n",
      "\u001b[1m12/12\u001b[0m \u001b[32m━━━━━━━━━━━━━━━━━━━━\u001b[0m\u001b[37m\u001b[0m \u001b[1m0s\u001b[0m 24ms/step - loss: 0.0106 - val_loss: 9.3789e-05\n",
      "Epoch 9/50\n",
      "\u001b[1m12/12\u001b[0m \u001b[32m━━━━━━━━━━━━━━━━━━━━\u001b[0m\u001b[37m\u001b[0m \u001b[1m0s\u001b[0m 26ms/step - loss: 0.0046 - val_loss: 4.7473e-05\n",
      "Epoch 10/50\n",
      "\u001b[1m12/12\u001b[0m \u001b[32m━━━━━━━━━━━━━━━━━━━━\u001b[0m\u001b[37m\u001b[0m \u001b[1m0s\u001b[0m 28ms/step - loss: 0.0106 - val_loss: 3.7720e-05\n",
      "Epoch 11/50\n",
      "\u001b[1m12/12\u001b[0m \u001b[32m━━━━━━━━━━━━━━━━━━━━\u001b[0m\u001b[37m\u001b[0m \u001b[1m0s\u001b[0m 25ms/step - loss: 0.0016 - val_loss: 1.3869e-05\n"
     ]
    }
   ],
   "source": [
    "history = model.fit(\n",
    "    X_train, y_train,\n",
    "    epochs=50,\n",
    "    batch_size=16,\n",
    "    validation_data=(X_test, y_test),\n",
    "    callbacks=[early_stop, checkpoint]\n",
    ")"
   ]
  },
  {
   "cell_type": "code",
   "execution_count": 45,
   "metadata": {},
   "outputs": [
    {
     "name": "stdout",
     "output_type": "stream",
     "text": [
      "\u001b[1m2/2\u001b[0m \u001b[32m━━━━━━━━━━━━━━━━━━━━\u001b[0m\u001b[37m\u001b[0m \u001b[1m2s\u001b[0m 889ms/step\n"
     ]
    }
   ],
   "source": [
    "y_pred = model.predict(X_test)"
   ]
  },
  {
   "cell_type": "code",
   "execution_count": 46,
   "metadata": {},
   "outputs": [
    {
     "name": "stdout",
     "output_type": "stream",
     "text": [
      "LSTM RMSE: 0.0006250787371149097\n",
      "LSTM MAE: 0.0006250787371148666\n",
      "LSTM R2: 0.0\n"
     ]
    }
   ],
   "source": [
    "mse = mean_squared_error(y_test, y_pred)\n",
    "rmse = np.sqrt(mse)\n",
    "mae = mean_absolute_error(y_test, y_pred)\n",
    "r2 = r2_score(y_test, y_pred)\n",
    "\n",
    "print(f\"LSTM RMSE: {rmse}\")\n",
    "print(f\"LSTM MAE: {mae}\")\n",
    "print(f\"LSTM R2: {r2}\")"
   ]
  },
  {
   "cell_type": "code",
   "execution_count": 35,
   "metadata": {},
   "outputs": [
    {
     "data": {
      "image/png": "[encoded data removed]",
      "text/plain": [
       "<Figure size 1000x600 with 1 Axes>"
      ]
     },
     "metadata": {},
     "output_type": "display_data"
    }
   ],
   "source": [
    "plt.figure(figsize=(10,6))\n",
    "plt.plot(history.history['loss'], label='Train Loss')\n",
    "plt.plot(history.history['val_loss'], label='Validation Loss')\n",
    "plt.title(\"Training and Validation Loss\")\n",
    "plt.xlabel(\"Epochs\")\n",
    "plt.ylabel(\"Loss (MSE)\")\n",
    "plt.legend()\n",
    "plt.show()"
   ]
  },
  {
   "cell_type": "code",
   "execution_count": 36,
   "metadata": {},
   "outputs": [
    {
     "data": {
      "image/png": "[encoded data removed]",
      "text/plain": [
       "<Figure size 1000x600 with 1 Axes>"
      ]
     },
     "metadata": {},
     "output_type": "display_data"
    }
   ],
   "source": [
    "plt.figure(figsize=(10,6))\n",
    "plt.plot(y_test, label=\"Actual\")\n",
    "plt.plot(y_pred, label=\"Predicted\")\n",
    "plt.title(\"Actual vs Predicted AWS Values\")\n",
    "plt.xlabel(\"Time Step\")\n",
    "plt.ylabel(\"Scaled AWS Value\")\n",
    "plt.legend()\n",
    "plt.show()"
   ]
  },
  {
   "cell_type": "code",
   "execution_count": 37,
   "metadata": {},
   "outputs": [
    {
     "data": {
      "image/png": "[encoded data removed]",
      "text/plain": [
       "<Figure size 800x800 with 1 Axes>"
      ]
     },
     "metadata": {},
     "output_type": "display_data"
    }
   ],
   "source": [
    "plt.figure(figsize=(8,8))\n",
    "plt.scatter(y_test, y_pred, alpha=0.6)\n",
    "plt.xlabel(\"Actual\")\n",
    "plt.ylabel(\"Predicted\")\n",
    "plt.title(\"Scatter Plot: Actual vs Predicted\")\n",
    "plt.plot([min(y_test), max(y_test)], [min(y_test), max(y_test)], color='red')\n",
    "plt.show()"
   ]
  }
 ],
 "metadata": {
  "kernelspec": {
   "display_name": "ai_train",
   "language": "python",
   "name": "python3"
  },
  "language_info": {
   "codemirror_mode": {
    "name": "ipython",
    "version": 3
   },
   "file_extension": ".py",
   "mimetype": "text/x-python",
   "name": "python",
   "nbconvert_exporter": "python",
   "pygments_lexer": "ipython3",
   "version": "3.12.9"
  }
 },
 "nbformat": 4,
 "nbformat_minor": 2
}
